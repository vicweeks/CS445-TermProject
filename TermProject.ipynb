{
 "cells": [
  {
   "cell_type": "markdown",
   "metadata": {},
   "source": [
    "# CS445: Term Project"
   ]
  },
  {
   "cell_type": "markdown",
   "metadata": {},
   "source": [
    "#### Victor Weeks & Josh Lutz"
   ]
  },
  {
   "cell_type": "markdown",
   "metadata": {},
   "source": [
    "Note: I think I am going to explore changing my idea to taking current inventory info and deciding how best to make a profit"
   ]
  },
  {
   "cell_type": "markdown",
   "metadata": {},
   "source": [
    "#### Get material data"
   ]
  },
  {
   "cell_type": "code",
   "execution_count": 47,
   "metadata": {},
   "outputs": [],
   "source": [
    "import urllib.request, urllib.error, urllib.parse\n",
    "api_key = \"Bearer 51DD34C0-ABC4-E54C-A3F2-8E7500AE5F74705C18C6-B5BD-431A-8A6A-304EB4F2A24A\"\n",
    "headers = {'Authorization': api_key}"
   ]
  },
  {
   "cell_type": "code",
   "execution_count": 48,
   "metadata": {},
   "outputs": [],
   "source": [
    "def getAccountMaterials():\n",
    "        \"\"\"Makes a request on the GW2 API.\"\"\"\n",
    "        url = 'https://api.guildwars2.com/v2/account/materials/'\n",
    "        r = urllib.request.Request(url, headers=headers)\n",
    "        if 'Cookie' not in headers:\n",
    "            resp = urllib.request.urlopen(r)\n",
    "            if 'set-cookie' in resp.headers:\n",
    "                headers['Cookie'] = resp.headers['set-cookie'].split(';', 1)[0]\n",
    "            return json.loads(resp.read())\n",
    "        return json.loads(urllib.request.urlopen(r).read())"
   ]
  },
  {
   "cell_type": "code",
   "execution_count": 62,
   "metadata": {},
   "outputs": [],
   "source": [
    "materials = getAccountMaterials()"
   ]
  },
  {
   "cell_type": "code",
   "execution_count": 70,
   "metadata": {},
   "outputs": [
    {
     "data": {
      "text/plain": [
       "{'category': 5, 'count': 56, 'id': 12134}"
      ]
     },
     "execution_count": 70,
     "metadata": {},
     "output_type": "execute_result"
    }
   ],
   "source": [
    "materials[0]"
   ]
  },
  {
   "cell_type": "code",
   "execution_count": 73,
   "metadata": {},
   "outputs": [],
   "source": [
    "def saveMaterials(materials):\n",
    "    playerMats = {}\n",
    "    for mat in materials:        \n",
    "        if mat['id'] in itemIDs:\n",
    "            playerMats[mat['id']] = mat['count']\n",
    "    with open('playerMaterials.txt', 'w') as outFile:\n",
    "        json.dump(playerMats, outFile)"
   ]
  },
  {
   "cell_type": "code",
   "execution_count": 74,
   "metadata": {},
   "outputs": [],
   "source": [
    "saveMaterials(materials)"
   ]
  },
  {
   "cell_type": "code",
   "execution_count": 76,
   "metadata": {},
   "outputs": [
    {
     "data": {
      "text/plain": [
       "151"
      ]
     },
     "execution_count": 76,
     "metadata": {},
     "output_type": "execute_result"
    }
   ],
   "source": [
    "matData = open('playerMaterials.txt')\n",
    "matData = json.load(matData)\n",
    "matData['19725']"
   ]
  },
  {
   "cell_type": "markdown",
   "metadata": {},
   "source": [
    "## Introduction"
   ]
  },
  {
   "cell_type": "code",
   "execution_count": 38,
   "metadata": {},
   "outputs": [],
   "source": [
    "from gw2spidy import Gw2Spidy as spidy # allows retrieval of market information\n",
    "import numpy as np\n",
    "import json\n",
    "import random\n",
    "import neuralnetworksA4 as nn"
   ]
  },
  {
   "cell_type": "markdown",
   "metadata": {},
   "source": [
    "### Data"
   ]
  },
  {
   "cell_type": "code",
   "execution_count": 2,
   "metadata": {},
   "outputs": [],
   "source": [
    "# Tier 1\n",
    "juteScrap = spidy.getItemData(19718)\n",
    "boltOfJute = spidy.getItemData(19720)\n",
    "copperOre = spidy.getItemData(19697)\n",
    "copperIngot = spidy.getItemData(19680)\n",
    "rawhideLeatherSection = spidy.getItemData(19719)\n",
    "stretchedRawhideLeatherSquare = spidy.getItemData(19738)\n",
    "greenWoodLog = spidy.getItemData(19723)\n",
    "greenWoodPlank = spidy.getItemData(19710)"
   ]
  },
  {
   "cell_type": "code",
   "execution_count": 3,
   "metadata": {},
   "outputs": [],
   "source": [
    "# Tier 2\n",
    "woolScrap = spidy.getItemData(19739)\n",
    "boltOfWool = spidy.getItemData(19740)\n",
    "ironOre = spidy.getItemData(19699)\n",
    "ironIngot = spidy.getItemData(19683)\n",
    "silverOre = spidy.getItemData(19703)\n",
    "silverIngot = spidy.getItemData(19687)\n",
    "thinLeatherSection = spidy.getItemData(19728)\n",
    "curedThinLeatherSquare = spidy.getItemData(19733)\n",
    "softWoodLog = spidy.getItemData(19726)\n",
    "softWoodPlank = spidy.getItemData(19713)"
   ]
  },
  {
   "cell_type": "code",
   "execution_count": 4,
   "metadata": {},
   "outputs": [],
   "source": [
    "# Tier 3\n",
    "cottonScrap = spidy.getItemData(19741)\n",
    "boltOfCotton = spidy.getItemData(19742)\n",
    "goldOre = spidy.getItemData(19698)\n",
    "goldIngot = spidy.getItemData(19682)\n",
    "coarseLeatherSection = spidy.getItemData(19730)\n",
    "curedCoarseLeatherSquare = spidy.getItemData(19734)\n",
    "seasonedWoodLog = spidy.getItemData(19727)\n",
    "seasonedWoodPlank = spidy.getItemData(19714)"
   ]
  },
  {
   "cell_type": "code",
   "execution_count": 5,
   "metadata": {},
   "outputs": [],
   "source": [
    "# Tier 4\n",
    "linenScrap = spidy.getItemData(19743)\n",
    "boltOfLinen = spidy.getItemData(19744)\n",
    "platinumOre = spidy.getItemData(19702)\n",
    "platinumIngot = spidy.getItemData(19686)\n",
    "ruggedLeatherSection = spidy.getItemData(19731)\n",
    "curedRuggedLeatherSquare = spidy.getItemData(19736)\n",
    "hardWoodLog = spidy.getItemData(19724)\n",
    "hardWoodPlank = spidy.getItemData(19711)"
   ]
  },
  {
   "cell_type": "code",
   "execution_count": 6,
   "metadata": {},
   "outputs": [],
   "source": [
    "# Tier 5\n",
    "silkScrap = spidy.getItemData(19748)\n",
    "boltOfSilk = spidy.getItemData(19747)\n",
    "mithrilOre = spidy.getItemData(19700)\n",
    "mithrilIngot = spidy.getItemData(19684)\n",
    "thickLeatherSection = spidy.getItemData(19729)\n",
    "curedThickLeatherSection = spidy.getItemData(19735)\n",
    "elderWoodLog = spidy.getItemData(19722)\n",
    "elderWoodPlank = spidy.getItemData(19709)"
   ]
  },
  {
   "cell_type": "code",
   "execution_count": 7,
   "metadata": {},
   "outputs": [],
   "source": [
    "# Tier 6\n",
    "gossamerScrap = spidy.getItemData(19745)\n",
    "boltOfGossamer = spidy.getItemData(19746)\n",
    "orichalcumOre = spidy.getItemData(19701)\n",
    "orichalcumIngot = spidy.getItemData(19685)\n",
    "hardenedLeatherSection = spidy.getItemData(19732)\n",
    "curedHardenedLeatherSquare = spidy.getItemData(19737)\n",
    "ancientWoodLog = spidy.getItemData(19725)\n",
    "ancientWoodPlank = spidy.getItemData(19712)"
   ]
  },
  {
   "cell_type": "code",
   "execution_count": 3,
   "metadata": {},
   "outputs": [],
   "source": [
    "itemIDs = (19718,19720,19697,19680,19719,19738,19723,19710,\n",
    "           19739,19740,19699,19683,19703,19687,19728,19733,19726,19713,\n",
    "           19741,19742,19698,19682,19730,19734,19727,19714,\n",
    "           19743,19744,19702,19686,19731,19736,19736,19724,19711,\n",
    "           19748,19747,19700,19684,19729,19735,19722,19709,\n",
    "           19745,19746,19701,19685,19732,19737,19725,19712)"
   ]
  },
  {
   "cell_type": "code",
   "execution_count": 7,
   "metadata": {},
   "outputs": [],
   "source": [
    "def saveItemData(itemIDs):\n",
    "    allItems = {}\n",
    "    for id in itemIDs:\n",
    "        itemData = {}\n",
    "        item = spidy.getItemData(id)\n",
    "        itemID = item['data_id']\n",
    "        itemData['name'] = item['name']\n",
    "        itemData['price_last_changed'] = item['price_last_changed']\n",
    "        itemData['max_offer_unit_price'] = item['max_offer_unit_price']\n",
    "        itemData['min_sale_unit_price'] = item['min_sale_unit_price']\n",
    "        itemData['offer_availability'] = item['offer_availability']\n",
    "        itemData['sale_availability'] = item['sale_availability']\n",
    "        itemData['sale_price_change_last_hour'] = item['sale_price_change_last_hour']\n",
    "        itemData['offer_price_change_last_hour'] = item['offer_price_change_last_hour']\n",
    "        allItems[itemID] = itemData\n",
    "    return allItems\n",
    "        "
   ]
  },
  {
   "cell_type": "code",
   "execution_count": 11,
   "metadata": {},
   "outputs": [],
   "source": [
    "# Only do this once, don't overwrite old data\n",
    "if False:\n",
    "    with open('itemData.txt', 'w') as outFile:\n",
    "        json.dump(saveItemData(itemIDs), outFile)"
   ]
  },
  {
   "cell_type": "code",
   "execution_count": 12,
   "metadata": {},
   "outputs": [
    {
     "data": {
      "text/plain": [
       "{'max_offer_unit_price': 152,\n",
       " 'min_sale_unit_price': 171,\n",
       " 'name': 'Ancient Wood Log',\n",
       " 'offer_availability': 84151,\n",
       " 'offer_price_change_last_hour': -5,\n",
       " 'price_last_changed': '2018-05-04 23:20:31 UTC',\n",
       " 'sale_availability': 491002,\n",
       " 'sale_price_change_last_hour': 0}"
      ]
     },
     "execution_count": 12,
     "metadata": {},
     "output_type": "execute_result"
    }
   ],
   "source": [
    "itemData = open('itemData.txt')\n",
    "lastItemData = json.load(itemData)\n",
    "lastItemData['19725']"
   ]
  },
  {
   "cell_type": "code",
   "execution_count": 48,
   "metadata": {},
   "outputs": [],
   "source": [
    "def savePortfolio(itemIDs):\n",
    "    allItems = {}\n",
    "    for id in itemIDs:\n",
    "        itemPortfolio = {}\n",
    "        itemPortfolio['num_units_possessed'] = 0\n",
    "        itemPortfolio['max_unit_buy_price'] = 0\n",
    "        allItems[id] = itemPortfolio\n",
    "    return allItems"
   ]
  },
  {
   "cell_type": "code",
   "execution_count": 14,
   "metadata": {},
   "outputs": [],
   "source": [
    "# Only do this once\n",
    "if False:\n",
    "    with open('portfolio.txt', 'w') as portfolio:\n",
    "        json.dump(savePortfolio(itemIDs), portfolio)"
   ]
  },
  {
   "cell_type": "code",
   "execution_count": 15,
   "metadata": {},
   "outputs": [
    {
     "data": {
      "text/plain": [
       "{'max_unit_buy_price': 0, 'num_units_possessed': 0}"
      ]
     },
     "execution_count": 15,
     "metadata": {},
     "output_type": "execute_result"
    }
   ],
   "source": [
    "portfolio = open('portfolio.txt')\n",
    "currPortfolio = json.load(portfolio)\n",
    "currPortfolio['19725']"
   ]
  },
  {
   "cell_type": "markdown",
   "metadata": {},
   "source": [
    "## Methods"
   ]
  },
  {
   "cell_type": "code",
   "execution_count": 41,
   "metadata": {},
   "outputs": [],
   "source": [
    "# This method acts as the reinforcement and accounts for the 15% handling cost for selling items on the market\n",
    "def checkForProfit(price_sold, price_bought):\n",
    "    profit = (price_sold - (price_sold * 0.15)) - price_bought\n",
    "    if profit > 0:\n",
    "        return 1\n",
    "    elif profit < 0:\n",
    "        return -1\n",
    "    else:\n",
    "        return 0"
   ]
  },
  {
   "cell_type": "markdown",
   "metadata": {},
   "source": [
    "Note: General training of net to be exposed to various states"
   ]
  },
  {
   "cell_type": "markdown",
   "metadata": {},
   "source": [
    "The state for this training is\n",
    "(max_offer_change, min_sale_change, offer_availability_change, sale_availability_change, units_possessed, unit_buy_price).\n",
    "The first four compare state at timepoint 2 to state at timepoint 1. A value of 1 indicates t2 > t1, 0 indicates no change, and -1 indicates t2 < t1.\n",
    "units_possessed is a value between 0 and 10 and unit_price is int between 1 and 100"
   ]
  },
  {
   "cell_type": "code",
   "execution_count": 37,
   "metadata": {},
   "outputs": [],
   "source": [
    "from copy import copy\n",
    "\n",
    "actions = (-1, 0, 1) # Possible actions (sale, none, buy)\n",
    "\n",
    "# time 1\n",
    "offer_price_T1 = random.randint(1, 100)\n",
    "sale_price_T1 = random.randint(1, 100)\n",
    "offer_avail_T1 = random.randint(1, 100)\n",
    "sale_avail_T1 = random.randint(1, 100)\n",
    "\n",
    "# time 2\n",
    "offer_price_T2 = random.randint(1, 100)\n",
    "sale_price_T2 = random.randint(1, 100)\n",
    "offer_avail_T2 = random.randint(1, 100)\n",
    "sale_avail_T2 = random.randint(1, 100)\n",
    "\n",
    "\n",
    "def getTimeDifference(value_T1, value_T2):\n",
    "    if value_T2 > value_T1:\n",
    "        return 1\n",
    "    elif value_T2 < value_T1:\n",
    "        return -1\n",
    "    else:\n",
    "        return 0\n",
    "\n",
    "def reinforcement(price_sold, price_bought):\n",
    "    return checkForProfit(price_sold, price_bought)\n",
    "\n",
    "def initialState():\n",
    "    # (max_offer_change, min_sale_change, offer_availability_change, sale_availability_change)\n",
    "    return np.array([getTimeDifference(offer_price_T1, offer_price_T2), getTimeDifference(sale_price_T1, sale_price_T2),\n",
    "                     getTimeDifference(offer_avail_T1, offer_avail_T2), getTimeDifference(sale_avail_T1, sale_avail_T2),\n",
    "                     random.randint(0,10), random.randint(1,100)])\n",
    "\n",
    "def nextState(s, a):\n",
    "    s = copy(s)\n",
    "    s[4] += a\n",
    "    if a == 1:\n",
    "        s[5] = max(s[5], offer_price_T2)\n",
    "    return s\n",
    "        \n",
    "def epsilonGreedy(nnetQ, state, actions, epsilon):\n",
    "    if np.random.uniform() < epsilon:\n",
    "        # Random Move\n",
    "        action = np.random.choice(actions)\n",
    "    else:\n",
    "        # Greedy Move\n",
    "        Qs = [nnetQ.use(np.hstack((state,a)).reshape((1, -1))) for a in actions]\n",
    "        ai = np.argmax(Qs)\n",
    "        action = actions[ai]\n",
    "    Q = nnetQ.use(np.hstack((state,action)).reshape((1, -1)))\n",
    "    return action, Q\n",
    "\n",
    "def makeSamples(nnet, initialStateF, nextStateF, reinforcementF,\n",
    "                validActions, numSamples, epsilon):\n",
    "\n",
    "    X = np.zeros((numSamples, nnet.ni))\n",
    "    R = np.zeros((numSamples, 1))\n",
    "    Qn = np.zeros((numSamples, 1))\n",
    "\n",
    "    s = initialStateF()\n",
    "    s = nextStateF(s, 0)        # Update state, sn from s and a\n",
    "    a, _ = epsilonGreedy(nnet, s, validActions, epsilon)\n",
    "\n",
    "    # Collect data from numSamples steps\n",
    "    for step in range(numSamples):\n",
    "        sn = nextStateF(s, a)        # Update state, sn from s and a\n",
    "        rn = reinforcementF(s, sn)   # Calculate resulting reinforcement\n",
    "        an, qn = epsilonGreedy(nnet, sn, validActions, epsilon) # Forward pass for time t+1\n",
    "        X[step, :] = np.hstack((s,a))\n",
    "        R[step, 0] = rn\n",
    "        Qn[step, 0] = qn\n",
    "        # Advance one time step\n",
    "        s, a = sn, an\n",
    "\n",
    "    return (X, R, Qn)\n",
    "\n"
   ]
  },
  {
   "cell_type": "markdown",
   "metadata": {},
   "source": [
    "## Results"
   ]
  },
  {
   "cell_type": "markdown",
   "metadata": {},
   "source": [
    "## Conclusions"
   ]
  },
  {
   "cell_type": "markdown",
   "metadata": {},
   "source": [
    "## References"
   ]
  }
 ],
 "metadata": {
  "kernelspec": {
   "display_name": "Python 3",
   "language": "python",
   "name": "python3"
  },
  "language_info": {
   "codemirror_mode": {
    "name": "ipython",
    "version": 3
   },
   "file_extension": ".py",
   "mimetype": "text/x-python",
   "name": "python",
   "nbconvert_exporter": "python",
   "pygments_lexer": "ipython3",
   "version": "3.6.3"
  }
 },
 "nbformat": 4,
 "nbformat_minor": 2
}
