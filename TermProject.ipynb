{
 "cells": [
  {
   "cell_type": "markdown",
   "metadata": {},
   "source": [
    "# CS445: Term Project"
   ]
  },
  {
   "cell_type": "markdown",
   "metadata": {},
   "source": [
    "#### Victor Weeks & Josh Lutz"
   ]
  },
  {
   "cell_type": "markdown",
   "metadata": {},
   "source": [
    "Note: I think I am going to explore changing my idea to taking current inventory info and deciding how best to make a profit"
   ]
  },
  {
   "cell_type": "markdown",
   "metadata": {},
   "source": [
    "### Introduction"
   ]
  },
  {
   "cell_type": "code",
   "execution_count": 479,
   "metadata": {},
   "outputs": [],
   "source": [
    "from gw2spidy import Gw2Spidy as spidy # allows retrieval of market information\n",
    "import numpy as np\n",
    "import json\n",
    "import random\n",
    "import neuralnetworksA4 as nn\n",
    "import matplotlib.pyplot as plt\n",
    "%matplotlib inline"
   ]
  },
  {
   "cell_type": "markdown",
   "metadata": {},
   "source": [
    "### Data"
   ]
  },
  {
   "cell_type": "code",
   "execution_count": 480,
   "metadata": {},
   "outputs": [],
   "source": [
    "itemIDs = (19718,19720,19697,19680,19719,19738,19723,19710,\n",
    "           19739,19740,19699,19683,19703,19687,19728,19733,19726,19713,\n",
    "           19741,19742,19698,19682,19730,19734,19727,19714,\n",
    "           19743,19744,19702,19686,19731,19736,19736,19724,19711,\n",
    "           19748,19747,19700,19684,19729,19735,19722,19709,\n",
    "           19745,19746,19701,19685,19732,19737,19725,19712)"
   ]
  },
  {
   "cell_type": "code",
   "execution_count": 987,
   "metadata": {},
   "outputs": [
    {
     "data": {
      "text/plain": [
       "(10302, 13)"
      ]
     },
     "execution_count": 987,
     "metadata": {},
     "output_type": "execute_result"
    }
   ],
   "source": [
    "itemTimeData = np.load('itemData.npy')\n",
    "itemTimeData.shape"
   ]
  },
  {
   "cell_type": "code",
   "execution_count": 483,
   "metadata": {},
   "outputs": [],
   "source": [
    "names = ['item_id', 'max_offer_price', 'min_sale_price', 'offer_availability', 'sale_availability', 'sale_price_change', 'offer_price_change', 'year', 'month', 'day', 'hour', 'minute', 'second']"
   ]
  },
  {
   "cell_type": "code",
   "execution_count": 1040,
   "metadata": {},
   "outputs": [],
   "source": [
    "def makeItemData(itemID=19718, allItems=False, splitData=False, stepsAheadToPredict=4):\n",
    "    itemTimeData = np.load('itemData.npy')\n",
    "    if allItems:\n",
    "        itemData = np.mean(itemTimeData[0:50], axis=0).reshape((1,-1))\n",
    "        for bucket in itemTimeData[51::51]:\n",
    "            itemData = np.vstack((itemData, np.mean(bucket.reshape((1,-1)), axis=0).reshape((1,-1))))\n",
    "    else:\n",
    "        itemData = itemTimeData[np.where(itemTimeData[:]==itemID)[0]]\n",
    "    X = itemData[:-stepsAheadToPredict, 1:7].copy()\n",
    "    T = itemData[stepsAheadToPredict:, 1:2].copy()\n",
    "    if splitData:\n",
    "        rows = np.arange(X.shape[0])\n",
    "        nTrain = int(X.shape[0] * 0.7)\n",
    "        Xtrain = X[rows[:nTrain],:]\n",
    "        Ttrain = T[rows[:nTrain],:]\n",
    "        Xtest = X[rows[nTrain:],:]\n",
    "        Ttest = T[rows[nTrain:],:]\n",
    "        return Xtrain, Ttrain, Xtest, Ttest\n",
    "    else:        \n",
    "        return X, T, itemData"
   ]
  },
  {
   "cell_type": "markdown",
   "metadata": {},
   "source": [
    "Note: Had to make sure to copy the X and T data because of how the Time-Embedded data is accessed."
   ]
  },
  {
   "cell_type": "code",
   "execution_count": 955,
   "metadata": {},
   "outputs": [
    {
     "data": {
      "text/plain": [
       "((197, 6), (197, 1), (197, 6), (197, 1))"
      ]
     },
     "execution_count": 955,
     "metadata": {},
     "output_type": "execute_result"
    }
   ],
   "source": [
    "Xtrain, Ttrain, items = makeItemData(allItems=True) # training with all items\n",
    "Xtest, Ttest, item1 = makeItemData(19735)\n",
    "Xtrain.shape, Ttrain.shape, Xtest.shape, Ttest.shape"
   ]
  },
  {
   "cell_type": "code",
   "execution_count": 1041,
   "metadata": {},
   "outputs": [
    {
     "data": {
      "text/plain": [
       "((139, 6), (139, 1), (60, 6), (60, 1))"
      ]
     },
     "execution_count": 1041,
     "metadata": {},
     "output_type": "execute_result"
    }
   ],
   "source": [
    "Xtrain, Ttrain, Xtest, Ttest = makeItemData(19743, splitData=True)\n",
    "Xtrain.shape, Ttrain.shape, Xtest.shape, Ttest.shape"
   ]
  },
  {
   "cell_type": "markdown",
   "metadata": {},
   "source": [
    "#### Time-Embedding"
   ]
  },
  {
   "cell_type": "code",
   "execution_count": 967,
   "metadata": {},
   "outputs": [],
   "source": [
    "def rollingWindows(X, windowSize):    \n",
    "    nSamples, nAttributes = X.shape\n",
    "    nWindows = nSamples - windowSize + 1\n",
    "    # Shape of resulting matrix\n",
    "    newShape = (nWindows, nAttributes * windowSize)\n",
    "    itemSize = X.itemsize  # number of bytes\n",
    "    # Number of bytes to increment to starting element in each dimension\n",
    "    strides = (nAttributes * itemSize, itemSize)\n",
    "    return np.lib.stride_tricks.as_strided(X, shape=newShape, strides=strides)"
   ]
  },
  {
   "cell_type": "code",
   "execution_count": 968,
   "metadata": {},
   "outputs": [
    {
     "data": {
      "text/plain": [
       "((136, 12), (136, 2), (59, 12), (59, 2))"
      ]
     },
     "execution_count": 968,
     "metadata": {},
     "output_type": "execute_result"
    }
   ],
   "source": [
    "XtrainW = rollingWindows(Xtrain, 2)\n",
    "TtrainW = rollingWindows(Ttrain, 2)\n",
    "XtestW = rollingWindows(Xtest, 2)\n",
    "TtestW = rollingWindows(Ttest, 2)\n",
    "XtrainW.shape, TtrainW.shape, XtestW.shape, TtestW.shape"
   ]
  },
  {
   "cell_type": "code",
   "execution_count": 969,
   "metadata": {},
   "outputs": [
    {
     "data": {
      "text/plain": [
       "array([[   300,    358,  93115, 355427,      0,      0],\n",
       "       [   285,    350,  91370, 356179,      0,      0]])"
      ]
     },
     "execution_count": 969,
     "metadata": {},
     "output_type": "execute_result"
    }
   ],
   "source": [
    "Xtrain[0:2]"
   ]
  },
  {
   "cell_type": "code",
   "execution_count": 970,
   "metadata": {},
   "outputs": [
    {
     "data": {
      "text/plain": [
       "array([   300,    358,  93115, 355427,      0,      0,    285,    350,\n",
       "        91370, 356179,      0,      0])"
      ]
     },
     "execution_count": 970,
     "metadata": {},
     "output_type": "execute_result"
    }
   ],
   "source": [
    "XtrainW[0]"
   ]
  },
  {
   "cell_type": "code",
   "execution_count": 971,
   "metadata": {},
   "outputs": [
    {
     "name": "stdout",
     "output_type": "stream",
     "text": [
      "SCG: Iteration 100 fValue Eval 0.133401395769 Scale 1e-15\n",
      "SCG: Iteration 200 fValue Eval 0.115342896284 Scale 1e-15\n",
      "SCG: Iteration 300 fValue Eval 0.112612532106 Scale 1e-15\n",
      "SCG: Iteration 400 fValue Eval 0.111883837808 Scale 1e-15\n",
      "SCG: Iteration 500 fValue Eval 0.111381723925 Scale 1e-15\n",
      "SCG: Iteration 600 fValue Eval 0.111257015791 Scale 1e-15\n",
      "SCG: Iteration 700 fValue Eval 0.11123850861 Scale 1e-15\n",
      "SCG: Iteration 800 fValue Eval 0.111227043672 Scale 1e-15\n",
      "SCG: Iteration 900 fValue Eval 0.111223370637 Scale 1e-15\n",
      "SCG: Iteration 1000 fValue Eval 0.111222581338 Scale 1e-15\n"
     ]
    },
    {
     "data": {
      "text/plain": [
       "NeuralNetwork(6, [10, 10, 10], 1)\n",
       "   Network was trained for 1001 iterations that took 2.1363 seconds. Final error is 0.33350049675889226."
      ]
     },
     "execution_count": 971,
     "metadata": {},
     "output_type": "execute_result"
    }
   ],
   "source": [
    "nnet = nn.NeuralNetwork(Xtrain.shape[1], [10,10,10], Ttrain.shape[1])\n",
    "nnet.train(Xtrain, Ttrain, 1000, verbose=True)"
   ]
  },
  {
   "cell_type": "code",
   "execution_count": 972,
   "metadata": {},
   "outputs": [
    {
     "data": {
      "image/png": "[encoded data removed]",
      "text/plain": [
       "<matplotlib.figure.Figure at 0x187e4a74710>"
      ]
     },
     "metadata": {},
     "output_type": "display_data"
    }
   ],
   "source": [
    "nnet.draw()"
   ]
  },
  {
   "cell_type": "code",
   "execution_count": 973,
   "metadata": {},
   "outputs": [
    {
     "name": "stdout",
     "output_type": "stream",
     "text": [
      "NeuralNetwork(6, [10, 10, 10], 1)\n",
      "   Network was trained for 1001 iterations that took 2.1363 seconds. Final error is 0.33350049675889226.\n"
     ]
    },
    {
     "data": {
      "image/png": "[encoded data removed]",
      "text/plain": [
       "<matplotlib.figure.Figure at 0x187e9c3f438>"
      ]
     },
     "metadata": {},
     "output_type": "display_data"
    }
   ],
   "source": [
    "fig = plt.figure(figsize=(15,5))\n",
    "plt.subplot(1,3,1)\n",
    "plt.plot(nnet.getErrors())\n",
    "print(nnet)\n",
    "\n",
    "Y = nnet.use(Xtest)\n",
    "plt.subplot(1,2,2)\n",
    "plt.plot(Y, label='Predicted_Max_Offer')\n",
    "plt.plot(Ttest, label='Target_Max_Offer')\n",
    "plt.legend();"
   ]
  },
  {
   "cell_type": "code",
   "execution_count": null,
   "metadata": {},
   "outputs": [],
   "source": []
  },
  {
   "cell_type": "code",
   "execution_count": null,
   "metadata": {},
   "outputs": [],
   "source": []
  },
  {
   "cell_type": "code",
   "execution_count": 974,
   "metadata": {},
   "outputs": [
    {
     "data": {
      "text/plain": [
       "86"
      ]
     },
     "execution_count": 974,
     "metadata": {},
     "output_type": "execute_result"
    }
   ],
   "source": [
    "keepTrain = [ len(np.unique(Trow))==1 for Trow in TtrainW ]\n",
    "keepTest = [ len(np.unique(Trow))==1 for Trow in TtestW ]\n",
    "sum(keepTrain)"
   ]
  },
  {
   "cell_type": "code",
   "execution_count": 975,
   "metadata": {},
   "outputs": [],
   "source": [
    "XtrainW = XtrainW[keepTrain, :]\n",
    "TtrainW = TtrainW[keepTrain, :]\n",
    "TtrainW = TtrainW[:, 0:1] # reduce to single class label\n",
    "\n",
    "XtestW = XtestW[keepTest, :]\n",
    "TtestW = TtestW[keepTest, :]\n",
    "TtestW = TtestW[:, 0:1] # reduce to single class label"
   ]
  },
  {
   "cell_type": "code",
   "execution_count": 979,
   "metadata": {},
   "outputs": [
    {
     "name": "stdout",
     "output_type": "stream",
     "text": [
      "SCG: Iteration 100 fValue Eval 0.0320224998449 Scale 1e-15\n",
      "SCG: Iteration 200 fValue Eval 0.0133380739718 Scale 1e-15\n",
      "SCG: Iteration 300 fValue Eval 0.00560691214374 Scale 1e-15\n",
      "SCG: Iteration 400 fValue Eval 0.00373856153622 Scale 1e-15\n",
      "SCG: Iteration 500 fValue Eval 0.00244624739055 Scale 1e-15\n",
      "SCG: Iteration 600 fValue Eval 0.00156094767693 Scale 1e-15\n",
      "SCG: Iteration 700 fValue Eval 0.00114916640233 Scale 1e-15\n",
      "SCG: Iteration 800 fValue Eval 0.000974526818224 Scale 1e-15\n",
      "SCG: Iteration 900 fValue Eval 0.000784630379807 Scale 1e-15\n",
      "SCG: Iteration 1000 fValue Eval 0.000671814979216 Scale 1e-15\n"
     ]
    },
    {
     "data": {
      "text/plain": [
       "NeuralNetwork(12, [10, 10, 10], 1)\n",
       "   Network was trained for 1001 iterations that took 1.6501 seconds. Final error is 0.025919393882113475."
      ]
     },
     "execution_count": 979,
     "metadata": {},
     "output_type": "execute_result"
    }
   ],
   "source": [
    "nnet = nn.NeuralNetwork(XtrainW.shape[1], [10,10,10], TtrainW.shape[1])\n",
    "nnet.train(XtrainW, TtrainW, 1000, verbose=True)"
   ]
  },
  {
   "cell_type": "code",
   "execution_count": 980,
   "metadata": {},
   "outputs": [
    {
     "name": "stdout",
     "output_type": "stream",
     "text": [
      "NeuralNetwork(12, [10, 10, 10], 1)\n",
      "   Network was trained for 1001 iterations that took 1.6501 seconds. Final error is 0.025919393882113475.\n"
     ]
    },
    {
     "data": {
      "image/png": "[encoded data removed]",
      "text/plain": [
       "<matplotlib.figure.Figure at 0x187ea65f438>"
      ]
     },
     "metadata": {},
     "output_type": "display_data"
    }
   ],
   "source": [
    "fig = plt.figure(figsize=(15,5))\n",
    "plt.subplot(1,2,1)\n",
    "plt.plot(nnet.getErrors())\n",
    "print(nnet)\n",
    "\n",
    "Y = nnet.use(XtestW)\n",
    "plt.subplot(1,2,2)\n",
    "plt.plot(Y, label='Predicted')\n",
    "plt.plot(TtestW, label='Target')\n",
    "plt.legend();"
   ]
  },
  {
   "cell_type": "code",
   "execution_count": null,
   "metadata": {},
   "outputs": [],
   "source": [
    "import pandas as pd\n",
    "errors = []\n",
    "hiddens = [0] + [[nu] * nl for nu in [1, 5, 10, 20, 50] for nl in [1, 2, 3, 4, 5]]\n",
    "print('hiddens =', hiddens)\n",
    "for hids in hiddens:\n",
    "    nnet = nn.NeuralNetwork(XtrainW.shape[1], hids, TtrainW.shape[1])\n",
    "    nnet.train(XtrainW, TtrainW, 1000)\n",
    "    errors.append([hids, rmse(TtrainW, nnet.use(XtrainW)), rmse(TtestW, nnet.use(XtestW))])\n",
    "errors = pd.DataFrame(errors)\n",
    "print(errors)\n",
    "\n",
    "plt.figure(figsize=(10, 10))\n",
    "plt.plot(errors.values[:, 1:], 'o-')\n",
    "plt.legend(('Tanh Train RMSE', 'Tanh Test RMSE'))\n",
    "plt.xticks(range(errors.shape[0]), hiddens, rotation=30, horizontalalignment='right')\n",
    "plt.grid(True)\n"
   ]
  },
  {
   "cell_type": "code",
   "execution_count": null,
   "metadata": {},
   "outputs": [],
   "source": []
  },
  {
   "cell_type": "markdown",
   "metadata": {},
   "source": [
    "## Methods"
   ]
  },
  {
   "cell_type": "markdown",
   "metadata": {},
   "source": [
    "Notes: \n",
    "* could seperate all items into train and test data\n",
    "* could train on one item, test on another"
   ]
  },
  {
   "cell_type": "code",
   "execution_count": 41,
   "metadata": {},
   "outputs": [],
   "source": [
    "# This method acts as the reinforcement and accounts for the 15% handling cost for selling items on the market\n",
    "def checkForProfit(price_sold, price_bought):\n",
    "    profit = (price_sold - (price_sold * 0.15)) - price_bought\n",
    "    if profit > 0:\n",
    "        return 1\n",
    "    elif profit < 0:\n",
    "        return -1\n",
    "    else:\n",
    "        return 0"
   ]
  },
  {
   "cell_type": "markdown",
   "metadata": {},
   "source": [
    "## Results"
   ]
  },
  {
   "cell_type": "markdown",
   "metadata": {},
   "source": [
    "## Conclusions"
   ]
  },
  {
   "cell_type": "markdown",
   "metadata": {},
   "source": [
    "## References"
   ]
  }
 ],
 "metadata": {
  "kernelspec": {
   "display_name": "Python 3",
   "language": "python",
   "name": "python3"
  },
  "language_info": {
   "codemirror_mode": {
    "name": "ipython",
    "version": 3
   },
   "file_extension": ".py",
   "mimetype": "text/x-python",
   "name": "python",
   "nbconvert_exporter": "python",
   "pygments_lexer": "ipython3",
   "version": "3.6.3"
  }
 },
 "nbformat": 4,
 "nbformat_minor": 2
}
