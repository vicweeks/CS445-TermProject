{
 "cells": [
  {
   "cell_type": "markdown",
   "metadata": {},
   "source": [
    "# CS445: Term Project"
   ]
  },
  {
   "cell_type": "markdown",
   "metadata": {},
   "source": [
    "#### Victor Weeks & Josh Lutz"
   ]
  },
  {
   "cell_type": "code",
   "execution_count": 1,
   "metadata": {},
   "outputs": [],
   "source": [
    "from gw2spidy import Gw2Spidy as spidy # allows retrieval of market information\n",
    "import numpy as np"
   ]
  },
  {
   "cell_type": "markdown",
   "metadata": {},
   "source": [
    "#### Basic Crafting Materials"
   ]
  },
  {
   "cell_type": "code",
   "execution_count": 2,
   "metadata": {},
   "outputs": [],
   "source": [
    "# Tier 1\n",
    "juteScrap = spidy.getItemData(19718)\n",
    "boltOfJute = spidy.getItemData(19720)\n",
    "copperOre = spidy.getItemData(19697)\n",
    "copperIngot = spidy.getItemData(19680)\n",
    "rawhideLeatherSection = spidy.getItemData(19719)\n",
    "stretchedRawhideLeatherSquare = spidy.getItemData(19738)\n",
    "greenWoodLog = spidy.getItemData(19723)\n",
    "greenWoodPlank = spidy.getItemData(19710)"
   ]
  },
  {
   "cell_type": "code",
   "execution_count": 3,
   "metadata": {},
   "outputs": [],
   "source": [
    "# Tier 2\n",
    "woolScrap = spidy.getItemData(19739)\n",
    "boltOfWool = spidy.getItemData(19740)\n",
    "ironOre = spidy.getItemData(19699)\n",
    "ironIngot = spidy.getItemData(19683)\n",
    "silverOre = spidy.getItemData(19703)\n",
    "silverIngot = spidy.getItemData(19687)\n",
    "thinLeatherSection = spidy.getItemData(19728)\n",
    "curedThinLeatherSquare = spidy.getItemData(19733)\n",
    "softWoodLog = spidy.getItemData(19726)\n",
    "softWoodPlank = spidy.getItemData(19713)"
   ]
  },
  {
   "cell_type": "code",
   "execution_count": 4,
   "metadata": {},
   "outputs": [],
   "source": [
    "# Tier 3\n",
    "cottonScrap = spidy.getItemData(19741)\n",
    "boltOfCotton = spidy.getItemData(19742)\n",
    "goldOre = spidy.getItemData(19698)\n",
    "goldIngot = spidy.getItemData(19682)\n",
    "coarseLeatherSection = spidy.getItemData(19730)\n",
    "curedCoarseLeatherSquare = spidy.getItemData(19734)\n",
    "seasonedWoodLog = spidy.getItemData(19727)\n",
    "seasonedWoodPlank = spidy.getItemData(19714)"
   ]
  },
  {
   "cell_type": "code",
   "execution_count": 5,
   "metadata": {},
   "outputs": [],
   "source": [
    "# Tier 4\n",
    "linenScrap = spidy.getItemData(19743)\n",
    "boltOfLinen = spidy.getItemData(19744)\n",
    "platinumOre = spidy.getItemData(19702)\n",
    "platinumIngot = spidy.getItemData(19686)\n",
    "ruggedLeatherSection = spidy.getItemData(19731)\n",
    "curedRuggedLeatherSquare = spidy.getItemData(19736)\n",
    "hardWoodLog = spidy.getItemData(19724)\n",
    "hardWoodPlank = spidy.getItemData(19711)"
   ]
  },
  {
   "cell_type": "code",
   "execution_count": 6,
   "metadata": {},
   "outputs": [],
   "source": [
    "# Tier 5\n",
    "silkScrap = spidy.getItemData(19748)\n",
    "boltOfSilk = spidy.getItemData(19747)\n",
    "mithrilOre = spidy.getItemData(19700)\n",
    "mithrilIngot = spidy.getItemData(19684)\n",
    "thickLeatherSection = spidy.getItemData(19729)\n",
    "curedThickLeatherSection = spidy.getItemData(19735)\n",
    "elderWoodLog = spidy.getItemData(19722)\n",
    "elderWoodPlank = spidy.getItemData(19709)"
   ]
  },
  {
   "cell_type": "code",
   "execution_count": 7,
   "metadata": {},
   "outputs": [],
   "source": [
    "# Tier 6\n",
    "gossamerScrap = spidy.getItemData(19745)\n",
    "boltOfGossamer = spidy.getItemData(19746)\n",
    "orichalcumOre = spidy.getItemData(19701)\n",
    "orichalcumIngot = spidy.getItemData(19685)\n",
    "hardenedLeatherSection = spidy.getItemData(19732)\n",
    "curedHardenedLeatherSquare = spidy.getItemData(19737)\n",
    "ancientWoodLog = spidy.getItemData(19725)\n",
    "ancientWoodPlank = spidy.getItemData(19712)"
   ]
  },
  {
   "cell_type": "code",
   "execution_count": 31,
   "metadata": {},
   "outputs": [],
   "source": [
    "itemIDs = (19718,19720,19697,19680,19719,19738,19723,19710,\n",
    "           19739,19740,19699,19683,19703,19687,19728,19733,19726,19713,\n",
    "           19741,19742,19698,19682,19730,19734,19727,19714,\n",
    "           19743,19744,19702,19686,19731,19736,19736,19724,19711,\n",
    "           19748,19747,19700,19684,19729,19735,19722,19709,\n",
    "           19745,19746,19701,19685,19732,19737,19725,19712)"
   ]
  },
  {
   "cell_type": "code",
   "execution_count": 32,
   "metadata": {},
   "outputs": [],
   "source": [
    "import json"
   ]
  },
  {
   "cell_type": "code",
   "execution_count": 33,
   "metadata": {},
   "outputs": [],
   "source": [
    "def saveItemData(itemIDs):\n",
    "    allItems = {}\n",
    "    for id in itemIDs:\n",
    "        itemData = {}\n",
    "        item = spidy.getItemData(id)\n",
    "        itemID = item['data_id']\n",
    "        itemData['name'] = item['name']\n",
    "        itemData['price_last_changed'] = item['price_last_changed']\n",
    "        itemData['max_offer_unit_price'] = item['max_offer_unit_price']\n",
    "        itemData['min_sale_unit_price'] = item['min_sale_unit_price']\n",
    "        itemData['offer_availability'] = item['offer_availability']\n",
    "        itemData['sale_availability'] = item['sale_availability']\n",
    "        itemData['sale_price_change_last_hour'] = item['sale_price_change_last_hour']\n",
    "        itemData['offer_price_change_last_hour'] = item['offer_price_change_last_hour']\n",
    "        allItems[itemID] = itemData\n",
    "    return allItems\n",
    "        "
   ]
  },
  {
   "cell_type": "code",
   "execution_count": 34,
   "metadata": {},
   "outputs": [],
   "source": [
    "with open('itemData.txt', 'w') as outFile:\n",
    "    json.dump(saveItemData(itemIDs), outFile)"
   ]
  },
  {
   "cell_type": "code",
   "execution_count": 53,
   "metadata": {},
   "outputs": [
    {
     "data": {
      "text/plain": [
       "{'max_offer_unit_price': 161,\n",
       " 'min_sale_unit_price': 163,\n",
       " 'name': 'Ancient Wood Log',\n",
       " 'offer_availability': 80071,\n",
       " 'offer_price_change_last_hour': 0,\n",
       " 'price_last_changed': '2018-05-03 22:35:15 UTC',\n",
       " 'sale_availability': 484551,\n",
       " 'sale_price_change_last_hour': 0}"
      ]
     },
     "execution_count": 53,
     "metadata": {},
     "output_type": "execute_result"
    }
   ],
   "source": [
    "itemData = open('itemData.txt')\n",
    "lastItemData = json.load(itemData)\n",
    "lastItemData['19725']"
   ]
  },
  {
   "cell_type": "code",
   "execution_count": 41,
   "metadata": {},
   "outputs": [],
   "source": [
    "# This method acts as the reinforcement and accounts for the 15% handling cost for selling items on the market\n",
    "def checkForProfit(price_sold, price_bought):\n",
    "    profit = (price_sold - (price_sold * 0.15)) - price_bought\n",
    "    if profit > 0:\n",
    "        return 1\n",
    "    elif profit < 0:\n",
    "        return -1\n",
    "    else:\n",
    "        return 0"
   ]
  },
  {
   "cell_type": "code",
   "execution_count": 48,
   "metadata": {},
   "outputs": [],
   "source": [
    "def savePortfolio(itemIDs):\n",
    "    allItems = {}\n",
    "    for id in itemIDs:\n",
    "        itemPortfolio = {}\n",
    "        itemPortfolio['num_units_possessed'] = 0\n",
    "        itemPortfolio['max_unit_buy_price'] = 0\n",
    "        allItems[id] = itemPortfolio\n",
    "    return allItems"
   ]
  },
  {
   "cell_type": "code",
   "execution_count": 49,
   "metadata": {},
   "outputs": [],
   "source": [
    "with open('portfolio.txt', 'w') as portfolio:\n",
    "    json.dump(savePortfolio(itemIDs), portfolio)"
   ]
  },
  {
   "cell_type": "code",
   "execution_count": 55,
   "metadata": {},
   "outputs": [
    {
     "data": {
      "text/plain": [
       "{'max_unit_buy_price': 0, 'num_units_possessed': 0}"
      ]
     },
     "execution_count": 55,
     "metadata": {},
     "output_type": "execute_result"
    }
   ],
   "source": [
    "portfolio = open('portfolio.txt')\n",
    "currPortfolio = json.load(portfolio)\n",
    "currPortfolio['19725']"
   ]
  },
  {
   "cell_type": "code",
   "execution_count": null,
   "metadata": {},
   "outputs": [],
   "source": []
  }
 ],
 "metadata": {
  "kernelspec": {
   "display_name": "Python 3",
   "language": "python",
   "name": "python3"
  },
  "language_info": {
   "codemirror_mode": {
    "name": "ipython",
    "version": 3
   },
   "file_extension": ".py",
   "mimetype": "text/x-python",
   "name": "python",
   "nbconvert_exporter": "python",
   "pygments_lexer": "ipython3",
   "version": "3.6.3"
  }
 },
 "nbformat": 4,
 "nbformat_minor": 2
}
