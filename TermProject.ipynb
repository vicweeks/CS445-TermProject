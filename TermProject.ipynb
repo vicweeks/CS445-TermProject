{
 "cells": [
  {
   "cell_type": "markdown",
   "metadata": {},
   "source": [
    "# CS445: Term Project"
   ]
  },
  {
   "cell_type": "markdown",
   "metadata": {},
   "source": [
    "#### Victor Weeks & Josh Lutz"
   ]
  },
  {
   "cell_type": "markdown",
   "metadata": {},
   "source": [
    "Note: I think I am going to explore changing my idea to taking current inventory info and deciding how best to make a profit"
   ]
  },
  {
   "cell_type": "markdown",
   "metadata": {},
   "source": [
    "#### Get material data"
   ]
  },
  {
   "cell_type": "code",
   "execution_count": 47,
   "metadata": {},
   "outputs": [],
   "source": [
    "import urllib.request, urllib.error, urllib.parse\n",
    "api_key = \"Bearer 51DD34C0-ABC4-E54C-A3F2-8E7500AE5F74705C18C6-B5BD-431A-8A6A-304EB4F2A24A\"\n",
    "headers = {'Authorization': api_key}"
   ]
  },
  {
   "cell_type": "code",
   "execution_count": 48,
   "metadata": {},
   "outputs": [],
   "source": [
    "def getAccountMaterials():\n",
    "        \"\"\"Makes a request on the GW2 API.\"\"\"\n",
    "        url = 'https://api.guildwars2.com/v2/account/materials/'\n",
    "        r = urllib.request.Request(url, headers=headers)\n",
    "        if 'Cookie' not in headers:\n",
    "            resp = urllib.request.urlopen(r)\n",
    "            if 'set-cookie' in resp.headers:\n",
    "                headers['Cookie'] = resp.headers['set-cookie'].split(';', 1)[0]\n",
    "            return json.loads(resp.read())\n",
    "        return json.loads(urllib.request.urlopen(r).read())"
   ]
  },
  {
   "cell_type": "code",
   "execution_count": 62,
   "metadata": {},
   "outputs": [],
   "source": [
    "materials = getAccountMaterials()"
   ]
  },
  {
   "cell_type": "code",
   "execution_count": 70,
   "metadata": {},
   "outputs": [
    {
     "data": {
      "text/plain": [
       "{'category': 5, 'count': 56, 'id': 12134}"
      ]
     },
     "execution_count": 70,
     "metadata": {},
     "output_type": "execute_result"
    }
   ],
   "source": [
    "materials[0]"
   ]
  },
  {
   "cell_type": "code",
   "execution_count": 73,
   "metadata": {},
   "outputs": [],
   "source": [
    "def saveMaterials(materials):\n",
    "    playerMats = {}\n",
    "    for mat in materials:        \n",
    "        if mat['id'] in itemIDs:\n",
    "            playerMats[mat['id']] = mat['count']\n",
    "    with open('playerMaterials.txt', 'w') as outFile:\n",
    "        json.dump(playerMats, outFile)"
   ]
  },
  {
   "cell_type": "code",
   "execution_count": 74,
   "metadata": {},
   "outputs": [],
   "source": [
    "saveMaterials(materials)"
   ]
  },
  {
   "cell_type": "code",
   "execution_count": 76,
   "metadata": {},
   "outputs": [
    {
     "data": {
      "text/plain": [
       "151"
      ]
     },
     "execution_count": 76,
     "metadata": {},
     "output_type": "execute_result"
    }
   ],
   "source": [
    "matData = open('playerMaterials.txt')\n",
    "matData = json.load(matData)\n",
    "matData['19725']"
   ]
  },
  {
   "cell_type": "markdown",
   "metadata": {},
   "source": [
    "## Introduction"
   ]
  },
  {
   "cell_type": "code",
   "execution_count": 479,
   "metadata": {},
   "outputs": [],
   "source": [
    "from gw2spidy import Gw2Spidy as spidy # allows retrieval of market information\n",
    "import numpy as np\n",
    "import json\n",
    "import random\n",
    "import neuralnetworksA4 as nn\n",
    "import matplotlib.pyplot as plt\n",
    "%matplotlib inline"
   ]
  },
  {
   "cell_type": "markdown",
   "metadata": {},
   "source": [
    "### Data"
   ]
  },
  {
   "cell_type": "code",
   "execution_count": 480,
   "metadata": {},
   "outputs": [],
   "source": [
    "itemIDs = (19718,19720,19697,19680,19719,19738,19723,19710,\n",
    "           19739,19740,19699,19683,19703,19687,19728,19733,19726,19713,\n",
    "           19741,19742,19698,19682,19730,19734,19727,19714,\n",
    "           19743,19744,19702,19686,19731,19736,19736,19724,19711,\n",
    "           19748,19747,19700,19684,19729,19735,19722,19709,\n",
    "           19745,19746,19701,19685,19732,19737,19725,19712)"
   ]
  },
  {
   "cell_type": "code",
   "execution_count": 481,
   "metadata": {},
   "outputs": [],
   "source": [
    "from datetime import datetime"
   ]
  },
  {
   "cell_type": "code",
   "execution_count": 41,
   "metadata": {},
   "outputs": [],
   "source": [
    "# This function adds current timepoint data to previous data and saves it\n",
    "def saveItemTimepoint(itemIDs):\n",
    "    now = datetime.now()\n",
    "    allItems = np.load('itemData.npy')\n",
    "    for id in itemIDs:\n",
    "        item = spidy.getItemData(id)\n",
    "        itemData = [item['data_id'], item['max_offer_unit_price'], item['min_sale_unit_price'], item['offer_availability'], item['sale_availability'], item['sale_price_change_last_hour'], item['offer_price_change_last_hour'],\n",
    "                   now.year, now.month, now.day, now.hour, now.minute, now.second]\n",
    "        allItems = np.vstack((allItems, itemData))\n",
    "    np.save('itemData', allItems)\n",
    "    print('Saved item data at : %s' % datetime.now())"
   ]
  },
  {
   "cell_type": "code",
   "execution_count": 42,
   "metadata": {},
   "outputs": [
    {
     "name": "stdout",
     "output_type": "stream",
     "text": [
      "Saved item data at : 2018-05-05 17:59:01.579238\n"
     ]
    }
   ],
   "source": [
    "saveItemTimepoint(itemIDs)"
   ]
  },
  {
   "cell_type": "code",
   "execution_count": 538,
   "metadata": {},
   "outputs": [
    {
     "data": {
      "text/plain": [
       "(9792, 13)"
      ]
     },
     "execution_count": 538,
     "metadata": {},
     "output_type": "execute_result"
    }
   ],
   "source": [
    "itemTimeData = np.load('itemData.npy')\n",
    "itemTimeData.shape"
   ]
  },
  {
   "cell_type": "code",
   "execution_count": 483,
   "metadata": {},
   "outputs": [],
   "source": [
    "names = ['item_id', 'max_offer_price', 'min_sale_price', 'offer_availability', 'sale_availability', 'sale_price_change', 'offer_price_change', 'year', 'month', 'day', 'hour', 'minute', 'second']"
   ]
  },
  {
   "cell_type": "code",
   "execution_count": 880,
   "metadata": {},
   "outputs": [],
   "source": [
    "def makeItemData(itemID=19718, allItems=False, splitData=False, stepsAheadToPredict=4):\n",
    "    itemTimeData = np.load('itemData.npy')\n",
    "    if allItems:\n",
    "        itemData = np.mean(itemTimeData[0:50], axis=0).reshape((1,-1))\n",
    "        for bucket in itemTimeData[51::51]:\n",
    "            itemData = np.vstack((itemData, np.mean(bucket.reshape((1,-1)), axis=0).reshape((1,-1))))\n",
    "    else:\n",
    "        itemData = itemTimeData[np.where(itemTimeData[:]==itemID)[0]]\n",
    "    X = itemData[:-stepsAheadToPredict, 1:7].copy()\n",
    "    T = itemData[stepsAheadToPredict:, 1:2].copy()\n",
    "    if splitData:\n",
    "        rows = np.arange(X.shape[0])\n",
    "        nTrain = int(X.shape[0] * 0.7)\n",
    "        Xtrain = X[rows[:nTrain],:]\n",
    "        Ttrain = T[rows[:nTrain],:]\n",
    "        Xtest = X[rows[nTrain:],:]\n",
    "        Ttest = T[rows[nTrain:],:]\n",
    "        return Xtrain, Ttrain, Xtest, Ttest\n",
    "    else:        \n",
    "        return X, T, itemData"
   ]
  },
  {
   "cell_type": "markdown",
   "metadata": {},
   "source": [
    "Note: Had to make sure to copy the X and T data because of how the Time-Embedded data is accessed."
   ]
  },
  {
   "cell_type": "code",
   "execution_count": 955,
   "metadata": {},
   "outputs": [
    {
     "data": {
      "text/plain": [
       "((197, 6), (197, 1), (197, 6), (197, 1))"
      ]
     },
     "execution_count": 955,
     "metadata": {},
     "output_type": "execute_result"
    }
   ],
   "source": [
    "Xtrain, Ttrain, items = makeItemData(allItems=True) # training with all items\n",
    "Xtest, Ttest, item1 = makeItemData(19735)\n",
    "Xtrain.shape, Ttrain.shape, Xtest.shape, Ttest.shape"
   ]
  },
  {
   "cell_type": "code",
   "execution_count": 905,
   "metadata": {},
   "outputs": [
    {
     "data": {
      "text/plain": [
       "((137, 6), (137, 1), (59, 6), (59, 1))"
      ]
     },
     "execution_count": 905,
     "metadata": {},
     "output_type": "execute_result"
    }
   ],
   "source": [
    "Xtrain, Ttrain, Xtest, Ttest = makeItemData(19743, allItems=True, splitData=True) #Train and test with all items\n",
    "Xtrain.shape, Ttrain.shape, Xtest.shape, Ttest.shape"
   ]
  },
  {
   "cell_type": "markdown",
   "metadata": {},
   "source": [
    "#### Time-Embedding"
   ]
  },
  {
   "cell_type": "code",
   "execution_count": 899,
   "metadata": {},
   "outputs": [],
   "source": [
    "def rollingWindows(X, windowSize):    \n",
    "    nSamples, nAttributes = X.shape\n",
    "    nWindows = nSamples - windowSize + 1\n",
    "    # Shape of resulting matrix\n",
    "    newShape = (nWindows, nAttributes * windowSize)\n",
    "    itemSize = X.itemsize  # number of bytes\n",
    "    # Number of bytes to increment to starting element in each dimension\n",
    "    strides = (nAttributes * itemSize, itemSize)\n",
    "    return np.lib.stride_tricks.as_strided(X, shape=newShape, strides=strides)"
   ]
  },
  {
   "cell_type": "code",
   "execution_count": 956,
   "metadata": {},
   "outputs": [
    {
     "data": {
      "text/plain": [
       "((196, 12), (196, 2), (196, 12), (196, 2))"
      ]
     },
     "execution_count": 956,
     "metadata": {},
     "output_type": "execute_result"
    }
   ],
   "source": [
    "XtrainW = rollingWindows(Xtrain, 2)\n",
    "TtrainW = rollingWindows(Ttrain, 2)\n",
    "XtestW = rollingWindows(Xtest, 2)\n",
    "TtestW = rollingWindows(Ttest, 2)\n",
    "XtrainW.shape, TtrainW.shape, XtestW.shape, TtestW.shape"
   ]
  },
  {
   "cell_type": "code",
   "execution_count": 957,
   "metadata": {},
   "outputs": [
    {
     "data": {
      "text/plain": [
       "array([[  3.18580000e+02,   3.58220000e+02,   5.57863420e+05,\n",
       "          1.63556236e+06,   0.00000000e+00,   0.00000000e+00],\n",
       "       [  7.70000000e+01,   9.20000000e+01,   6.64614000e+05,\n",
       "          4.51649000e+05,   0.00000000e+00,   0.00000000e+00]])"
      ]
     },
     "execution_count": 957,
     "metadata": {},
     "output_type": "execute_result"
    }
   ],
   "source": [
    "Xtrain[0:2]"
   ]
  },
  {
   "cell_type": "code",
   "execution_count": 958,
   "metadata": {},
   "outputs": [
    {
     "data": {
      "text/plain": [
       "array([  3.18580000e+02,   3.58220000e+02,   5.57863420e+05,\n",
       "         1.63556236e+06,   0.00000000e+00,   0.00000000e+00,\n",
       "         7.70000000e+01,   9.20000000e+01,   6.64614000e+05,\n",
       "         4.51649000e+05,   0.00000000e+00,   0.00000000e+00])"
      ]
     },
     "execution_count": 958,
     "metadata": {},
     "output_type": "execute_result"
    }
   ],
   "source": [
    "XtrainW[0]"
   ]
  },
  {
   "cell_type": "code",
   "execution_count": 959,
   "metadata": {},
   "outputs": [
    {
     "name": "stdout",
     "output_type": "stream",
     "text": [
      "SCG: Iteration 100 fValue Eval 0.258425263853 Scale 0.000549755813888\n",
      "SCG: Iteration 200 fValue Eval 0.209481074514 Scale 1e-15\n",
      "SCG: Iteration 300 fValue Eval 0.168956496713 Scale 1e-15\n",
      "SCG: Iteration 400 fValue Eval 0.15949002153 Scale 1e-15\n",
      "SCG: Iteration 500 fValue Eval 0.14668772719 Scale 1e-15\n",
      "SCG: Iteration 600 fValue Eval 0.137775777809 Scale 1e-15\n",
      "SCG: Iteration 700 fValue Eval 0.133979337552 Scale 1e-15\n",
      "SCG: Iteration 800 fValue Eval 0.131654566237 Scale 1e-15\n",
      "SCG: Iteration 900 fValue Eval 0.130301201807 Scale 1e-15\n",
      "SCG: Iteration 1000 fValue Eval 0.129268898888 Scale 1e-15\n"
     ]
    },
    {
     "data": {
      "text/plain": [
       "NeuralNetwork(6, [10, 10, 10], 1)\n",
       "   Network was trained for 1001 iterations that took 2.7201 seconds. Final error is 0.3595398432558066."
      ]
     },
     "execution_count": 959,
     "metadata": {},
     "output_type": "execute_result"
    }
   ],
   "source": [
    "nnet = nn.NeuralNetwork(Xtrain.shape[1], [10,10,10], Ttrain.shape[1])\n",
    "nnet.train(Xtrain, Ttrain, 1000, verbose=True)"
   ]
  },
  {
   "cell_type": "code",
   "execution_count": 960,
   "metadata": {},
   "outputs": [
    {
     "data": {
      "image/png": "[encoded data removed]",
      "text/plain": [
       "<matplotlib.figure.Figure at 0x187e9c5d710>"
      ]
     },
     "metadata": {},
     "output_type": "display_data"
    }
   ],
   "source": [
    "nnet.draw()"
   ]
  },
  {
   "cell_type": "code",
   "execution_count": 961,
   "metadata": {},
   "outputs": [
    {
     "name": "stdout",
     "output_type": "stream",
     "text": [
      "NeuralNetwork(6, [10, 10, 10], 1)\n",
      "   Network was trained for 1001 iterations that took 2.7201 seconds. Final error is 0.3595398432558066.\n"
     ]
    },
    {
     "data": {
      "image/png": "[encoded data removed]",
      "text/plain": [
       "<matplotlib.figure.Figure at 0x187ea363588>"
      ]
     },
     "metadata": {},
     "output_type": "display_data"
    }
   ],
   "source": [
    "fig = plt.figure(figsize=(15,5))\n",
    "plt.subplot(1,3,1)\n",
    "plt.plot(nnet.getErrors())\n",
    "print(nnet)\n",
    "\n",
    "Y = nnet.use(Xtest)\n",
    "plt.subplot(1,2,2)\n",
    "plt.plot(Y, label='Predicted_Max_Offer')\n",
    "plt.plot(Ttest, label='Target_Max_Offer')\n",
    "plt.legend();"
   ]
  },
  {
   "cell_type": "code",
   "execution_count": null,
   "metadata": {},
   "outputs": [],
   "source": []
  },
  {
   "cell_type": "code",
   "execution_count": null,
   "metadata": {},
   "outputs": [],
   "source": []
  },
  {
   "cell_type": "code",
   "execution_count": null,
   "metadata": {},
   "outputs": [],
   "source": []
  },
  {
   "cell_type": "code",
   "execution_count": null,
   "metadata": {},
   "outputs": [],
   "source": []
  },
  {
   "cell_type": "code",
   "execution_count": null,
   "metadata": {},
   "outputs": [],
   "source": []
  },
  {
   "cell_type": "code",
   "execution_count": 962,
   "metadata": {},
   "outputs": [
    {
     "data": {
      "text/plain": [
       "166"
      ]
     },
     "execution_count": 962,
     "metadata": {},
     "output_type": "execute_result"
    }
   ],
   "source": [
    "keepTrain = [ len(np.unique(Trow))==1 for Trow in TtrainW ]\n",
    "keepTest = [ len(np.unique(Trow))==1 for Trow in TtestW ]\n",
    "sum(keepTrain)"
   ]
  },
  {
   "cell_type": "code",
   "execution_count": 963,
   "metadata": {},
   "outputs": [],
   "source": [
    "XtrainW = XtrainW[keepTrain, :]\n",
    "TtrainW = TtrainW[keepTrain, :]\n",
    "TtrainW = TtrainW[:, 0:1] # reduce to single class label\n",
    "\n",
    "XtestW = XtestW[keepTest, :]\n",
    "TtestW = TtestW[keepTest, :]\n",
    "TtestW = TtestW[:, 0:1] # reduce to single class label"
   ]
  },
  {
   "cell_type": "code",
   "execution_count": 964,
   "metadata": {},
   "outputs": [
    {
     "name": "stdout",
     "output_type": "stream",
     "text": [
      "SCG: Iteration 100 fValue Eval 0.090104045071 Scale 1e-15\n",
      "SCG: Iteration 200 fValue Eval 0.0379357269019 Scale 1e-15\n",
      "SCG: Iteration 300 fValue Eval 0.0225561004734 Scale 1e-15\n",
      "SCG: Iteration 400 fValue Eval 0.0148289516296 Scale 1e-15\n",
      "SCG: Iteration 500 fValue Eval 0.0113948399782 Scale 1e-15\n",
      "SCG: Iteration 600 fValue Eval 0.00879953727688 Scale 1e-15\n",
      "SCG: Iteration 700 fValue Eval 0.00707082806544 Scale 1e-15\n",
      "SCG: Iteration 800 fValue Eval 0.00610688640433 Scale 1e-15\n",
      "SCG: Iteration 900 fValue Eval 0.00478952472594 Scale 1e-15\n",
      "SCG: Iteration 1000 fValue Eval 0.00378912943805 Scale 1e-15\n"
     ]
    },
    {
     "data": {
      "text/plain": [
       "NeuralNetwork(12, [10, 10, 10], 1)\n",
       "   Network was trained for 1001 iterations that took 2.7249 seconds. Final error is 0.06155590498113965."
      ]
     },
     "execution_count": 964,
     "metadata": {},
     "output_type": "execute_result"
    }
   ],
   "source": [
    "nnet = nn.NeuralNetwork(XtrainW.shape[1], [10,10,10], TtrainW.shape[1])\n",
    "nnet.train(XtrainW/(XtrainW.max(axis=0)), TtrainW/(TtrainW.max(axis=0)), 1000, verbose=True)"
   ]
  },
  {
   "cell_type": "code",
   "execution_count": 965,
   "metadata": {},
   "outputs": [
    {
     "name": "stdout",
     "output_type": "stream",
     "text": [
      "NeuralNetwork(12, [10, 10, 10], 1)\n",
      "   Network was trained for 1001 iterations that took 2.7249 seconds. Final error is 0.06155590498113965.\n"
     ]
    },
    {
     "data": {
      "image/png": "[encoded data removed]",
      "text/plain": [
       "<matplotlib.figure.Figure at 0x187e809f470>"
      ]
     },
     "metadata": {},
     "output_type": "display_data"
    }
   ],
   "source": [
    "fig = plt.figure(figsize=(15,5))\n",
    "plt.subplot(1,2,1)\n",
    "plt.plot(nnet.getErrors())\n",
    "print(nnet)\n",
    "\n",
    "Y = nnet.use(XtestW/(XtestW.max(axis=0)))\n",
    "plt.subplot(1,2,2)\n",
    "plt.plot(Y, label='Predicted')\n",
    "plt.plot(TtestW/(TtestW.max(axis=0)), label='Target')\n",
    "plt.legend();"
   ]
  },
  {
   "cell_type": "code",
   "execution_count": 922,
   "metadata": {},
   "outputs": [
    {
     "name": "stdout",
     "output_type": "stream",
     "text": [
      "hiddens = [0, [1], [1, 1], [1, 1, 1], [1, 1, 1, 1], [1, 1, 1, 1, 1], [5], [5, 5], [5, 5, 5], [5, 5, 5, 5], [5, 5, 5, 5, 5], [10], [10, 10], [10, 10, 10], [10, 10, 10, 10], [10, 10, 10, 10, 10], [20], [20, 20], [20, 20, 20], [20, 20, 20, 20], [20, 20, 20, 20, 20], [50], [50, 50], [50, 50, 50], [50, 50, 50, 50], [50, 50, 50, 50, 50]]\n",
      "1.6040875717e-16\n",
      "                       0         1           2\n",
      "0                      0  1.107171  221.443841\n",
      "1                    [1]  1.077876  157.385391\n",
      "2                 [1, 1]  1.076172  157.382035\n",
      "3              [1, 1, 1]  1.075109  157.388759\n",
      "4           [1, 1, 1, 1]  1.074625  157.392186\n",
      "5        [1, 1, 1, 1, 1]  1.074802  157.403119\n",
      "6                    [5]  0.581100  169.430947\n",
      "7                 [5, 5]  0.371077  155.849256\n",
      "8              [5, 5, 5]  0.309750  155.355470\n",
      "9           [5, 5, 5, 5]  0.318064  157.404214\n",
      "10       [5, 5, 5, 5, 5]  0.429583  156.139960\n",
      "11                  [10]  0.232727  152.781823\n",
      "12              [10, 10]  0.144414  163.544594\n",
      "13          [10, 10, 10]  0.223876  149.476643\n",
      "14      [10, 10, 10, 10]  0.226586  157.827495\n",
      "15  [10, 10, 10, 10, 10]  0.225837  143.389600\n",
      "16                  [20]  0.160366  155.869420\n",
      "17              [20, 20]  0.159785  151.713294\n",
      "18          [20, 20, 20]  0.164713  156.955156\n",
      "19      [20, 20, 20, 20]  0.221576  154.327274\n",
      "20  [20, 20, 20, 20, 20]  0.185862  152.793185\n",
      "21                  [50]  0.136128  160.271463\n",
      "22              [50, 50]  0.103993  138.867220\n",
      "23          [50, 50, 50]  0.137236  149.764296\n",
      "24      [50, 50, 50, 50]  0.151944  158.383061\n",
      "25  [50, 50, 50, 50, 50]  0.186739  156.935454\n"
     ]
    },
    {
     "data": {
      "image/png": "[encoded data removed]",
      "text/plain": [
       "<matplotlib.figure.Figure at 0x187e9c6c9e8>"
      ]
     },
     "metadata": {},
     "output_type": "display_data"
    }
   ],
   "source": [
    "import pandas as pd\n",
    "errors = []\n",
    "hiddens = [0] + [[nu] * nl for nu in [1, 5, 10, 20, 50] for nl in [1, 2, 3, 4, 5]]\n",
    "print('hiddens =', hiddens)\n",
    "for hids in hiddens:\n",
    "    nnet = nn.NeuralNetwork(XtrainW.shape[1], hids, TtrainW.shape[1])\n",
    "    nnet.train(XtrainW, TtrainW, 1000)\n",
    "    errors.append([hids, rmse(TtrainW, nnet.use(XtrainW)), rmse(TtestW, nnet.use(XtestW))])\n",
    "errors = pd.DataFrame(errors)\n",
    "print(errors)\n",
    "\n",
    "plt.figure(figsize=(10, 10))\n",
    "plt.plot(errors.values[:, 1:], 'o-')\n",
    "plt.legend(('Tanh Train RMSE', 'Tanh Test RMSE'))\n",
    "plt.xticks(range(errors.shape[0]), hiddens, rotation=30, horizontalalignment='right')\n",
    "plt.grid(True)\n"
   ]
  },
  {
   "cell_type": "code",
   "execution_count": null,
   "metadata": {},
   "outputs": [],
   "source": []
  },
  {
   "cell_type": "markdown",
   "metadata": {},
   "source": [
    "#### Recurrent Neural Network"
   ]
  },
  {
   "cell_type": "code",
   "execution_count": 450,
   "metadata": {},
   "outputs": [
    {
     "data": {
      "text/plain": [
       "array([[    77,     92, 664614, 451649,      0,      0],\n",
       "       [    77,     92, 664614, 451649,      0,      0]])"
      ]
     },
     "execution_count": 450,
     "metadata": {},
     "output_type": "execute_result"
    }
   ],
   "source": [
    "X[0:2]"
   ]
  },
  {
   "cell_type": "code",
   "execution_count": null,
   "metadata": {},
   "outputs": [],
   "source": [
    "plt.figure(figsize=(15,15))\n",
    "nrow, ncol = item1.shape\n",
    "for c in range(ncol):\n",
    "    plt.subplot(4, 4, c+1)\n",
    "    plt.plot(item1[:, c])\n",
    "    plt.tight_layout()"
   ]
  },
  {
   "cell_type": "code",
   "execution_count": 412,
   "metadata": {},
   "outputs": [],
   "source": [
    "Tnames = names[1:2]\n",
    "Xnames = names[1:]"
   ]
  },
  {
   "cell_type": "code",
   "execution_count": 328,
   "metadata": {},
   "outputs": [],
   "source": [
    "def plotItemData(Tplot=0):\n",
    "    plt.figure(figsize=(10,10))\n",
    "    for c in range(X.shape[1]):           \n",
    "        plt.subplot(3, 2, c+1)\n",
    "        plt.plot(X[:, c], T[:, Tplot], 'o', alpha=0.5)\n",
    "        plt.ylabel(Tnames[Tplot])\n",
    "        plt.xlabel(Xnames[c])\n",
    "        plt.tight_layout()"
   ]
  },
  {
   "cell_type": "code",
   "execution_count": null,
   "metadata": {},
   "outputs": [],
   "source": [
    "plotItemData(Tplot=0)"
   ]
  },
  {
   "cell_type": "code",
   "execution_count": null,
   "metadata": {},
   "outputs": [],
   "source": [
    "plotItemData(Tplot=1)"
   ]
  },
  {
   "cell_type": "code",
   "execution_count": null,
   "metadata": {},
   "outputs": [],
   "source": [
    "plotItemData(Tplot=2)"
   ]
  },
  {
   "cell_type": "code",
   "execution_count": null,
   "metadata": {},
   "outputs": [],
   "source": [
    "plotItemData(Tplot=3)"
   ]
  },
  {
   "cell_type": "code",
   "execution_count": null,
   "metadata": {},
   "outputs": [],
   "source": [
    "plotItemData(Tplot=4)"
   ]
  },
  {
   "cell_type": "code",
   "execution_count": null,
   "metadata": {},
   "outputs": [],
   "source": [
    "plotItemData(Tplot=5)"
   ]
  },
  {
   "cell_type": "code",
   "execution_count": null,
   "metadata": {},
   "outputs": [],
   "source": []
  },
  {
   "cell_type": "code",
   "execution_count": null,
   "metadata": {},
   "outputs": [],
   "source": []
  },
  {
   "cell_type": "code",
   "execution_count": null,
   "metadata": {},
   "outputs": [],
   "source": []
  },
  {
   "cell_type": "code",
   "execution_count": null,
   "metadata": {},
   "outputs": [],
   "source": []
  },
  {
   "cell_type": "code",
   "execution_count": null,
   "metadata": {},
   "outputs": [],
   "source": []
  },
  {
   "cell_type": "code",
   "execution_count": 362,
   "metadata": {},
   "outputs": [],
   "source": [
    "def train(X, T, nUnits=3, nIterations=2000, learningRate=0.01, W=None):\n",
    "    \n",
    "    nSamples, nInputs = X.shape\n",
    "    nTargets = T.shape[1]\n",
    "\n",
    "    if W is None:\n",
    "        W = np.random.uniform(-1, 1, (1+nInputs+nUnits, nUnits)) / np.sqrt(1+nInputs+nUnits)\n",
    "\n",
    "    Y = np.zeros((nSamples, nUnits))\n",
    "    P = np.zeros((1+nInputs+nUnits, nUnits, nUnits))\n",
    "    Z = np.zeros((1+nInputs+nUnits, 1))\n",
    "    Z[0,:] = 1\n",
    "    delta = np.zeros((nUnits, 1))\n",
    "    dW = np.zeros_like(W)\n",
    "\n",
    "    errors = np.zeros(nIterations)\n",
    "    errors[:] = np.nan\n",
    "    Ws = np.zeros((nIterations, (1+nInputs+nUnits)*nUnits))\n",
    "    Ws[:] = np.nan\n",
    "\n",
    "    fig = plt.figure(figsize=(10, 15))\n",
    "\n",
    "    for iteration in range(nIterations):\n",
    "        Y[:] = 0\n",
    "        P[:] = 0\n",
    "        dW[:] = 0\n",
    "        errSum = 0\n",
    "        Z[1+nInputs:] = 0\n",
    "        for n in range(nSamples):\n",
    "            # if n % 10 == 0:\n",
    "            #     P[:] = 0\n",
    "            Z[1:1+nInputs] = X[n, :]\n",
    "            Y[n, :] = np.tanh(Z.T @ W)\n",
    "            delta[:nTargets, :] = 2 * (Y[n, :nTargets] - T[n, :])\n",
    "            dW += np.squeeze(P @ delta)\n",
    "            Z[1+nInputs:,0] = Y[n, :]\n",
    "            PW = P @ W[1+nInputs:, :]\n",
    "            PW[:, range(nUnits), range(nUnits)] += Z\n",
    "            P = (1 - Y[n, :]**2) * PW\n",
    "            errSum += (Y[n,:nTargets] - T[n,:])**2\n",
    "            W = W - learningRate * dW / nSamples\n",
    "        \n",
    "        errors[iteration] = np.sqrt(errSum/nSamples)\n",
    "        Ws[iteration, :] = W.flat\n",
    "       \n",
    "        if iteration % ((nIterations+1)//20) == 0:\n",
    "            fig.clf()\n",
    "            plt.subplot(4, 1, 1)\n",
    "            plt.plot(errors)\n",
    "            plt.xlim(0, nIterations)\n",
    "            # plt.ylim(0, 0.3)\n",
    "            plt.xlabel('Iteration')\n",
    "            plt.ylabel('RMS Error')\n",
    "            \n",
    "            plt.subplot(4, 1, 2)\n",
    "            # plt.plot(X, label='Input')\n",
    "            plt.plot(T, label='Target')\n",
    "            plt.plot(Y[:,:nTargets], label='Trained Unit 0')\n",
    "            plt.legend()\n",
    "            \n",
    "            plt.subplot(4, 1, 3)\n",
    "            plt.plot(Y)\n",
    "            plt.ylabel('All Unit Outputs')\n",
    "            labels = ['Trained Unit 0']\n",
    "            for u in range(1,nUnits):\n",
    "                labels += ['Unit {}'.format(u)]\n",
    "            plt.legend(labels)\n",
    "            \n",
    "            plt.subplot(4, 1, 4)\n",
    "            plt.plot(Ws)\n",
    "            plt.xlim(0, nIterations)\n",
    "            plt.xlabel('Iteration')\n",
    "            plt.ylabel('Weights')\n",
    "            labels = []\n",
    "            for u in range(nUnits):\n",
    "                labels += ['{} bias'.format(u), '{} input'.format(u), '{} recurrent'.format(u)]\n",
    "            plt.legend(labels)\n",
    "\n",
    "            clear_output(wait=True)\n",
    "            display(fig);\n",
    "    \n",
    "    clear_output(wait=True)\n",
    "    return W"
   ]
  },
  {
   "cell_type": "code",
   "execution_count": 341,
   "metadata": {},
   "outputs": [],
   "source": [
    "from IPython.display import display, clear_output"
   ]
  },
  {
   "cell_type": "code",
   "execution_count": 375,
   "metadata": {},
   "outputs": [
    {
     "ename": "ValueError",
     "evalue": "could not broadcast input array from shape (6) into shape (6,1)",
     "output_type": "error",
     "traceback": [
      "\u001b[1;31m---------------------------------------------------------------------------\u001b[0m",
      "\u001b[1;31mValueError\u001b[0m                                Traceback (most recent call last)",
      "\u001b[1;32m<ipython-input-375-c75101608895>\u001b[0m in \u001b[0;36m<module>\u001b[1;34m()\u001b[0m\n\u001b[1;32m----> 1\u001b[1;33m \u001b[0mW\u001b[0m \u001b[1;33m=\u001b[0m \u001b[0mtrain\u001b[0m\u001b[1;33m(\u001b[0m\u001b[0mX\u001b[0m\u001b[1;33m,\u001b[0m \u001b[0mT\u001b[0m\u001b[1;33m,\u001b[0m \u001b[0mnUnits\u001b[0m\u001b[1;33m=\u001b[0m\u001b[1;36m4\u001b[0m\u001b[1;33m,\u001b[0m \u001b[0mnIterations\u001b[0m\u001b[1;33m=\u001b[0m\u001b[1;36m1000\u001b[0m\u001b[1;33m,\u001b[0m \u001b[0mlearningRate\u001b[0m\u001b[1;33m=\u001b[0m\u001b[1;36m0.01\u001b[0m\u001b[1;33m)\u001b[0m\u001b[1;33m\u001b[0m\u001b[0m\n\u001b[0m",
      "\u001b[1;32m<ipython-input-362-ca0b135e5a7f>\u001b[0m in \u001b[0;36mtrain\u001b[1;34m(X, T, nUnits, nIterations, learningRate, W)\u001b[0m\n\u001b[0;32m     30\u001b[0m             \u001b[1;31m# if n % 10 == 0:\u001b[0m\u001b[1;33m\u001b[0m\u001b[1;33m\u001b[0m\u001b[0m\n\u001b[0;32m     31\u001b[0m             \u001b[1;31m#     P[:] = 0\u001b[0m\u001b[1;33m\u001b[0m\u001b[1;33m\u001b[0m\u001b[0m\n\u001b[1;32m---> 32\u001b[1;33m             \u001b[0mZ\u001b[0m\u001b[1;33m[\u001b[0m\u001b[1;36m1\u001b[0m\u001b[1;33m:\u001b[0m\u001b[1;36m1\u001b[0m\u001b[1;33m+\u001b[0m\u001b[0mnInputs\u001b[0m\u001b[1;33m]\u001b[0m \u001b[1;33m=\u001b[0m \u001b[0mX\u001b[0m\u001b[1;33m[\u001b[0m\u001b[0mn\u001b[0m\u001b[1;33m,\u001b[0m \u001b[1;33m:\u001b[0m\u001b[1;33m]\u001b[0m\u001b[1;33m\u001b[0m\u001b[0m\n\u001b[0m\u001b[0;32m     33\u001b[0m             \u001b[0mY\u001b[0m\u001b[1;33m[\u001b[0m\u001b[0mn\u001b[0m\u001b[1;33m,\u001b[0m \u001b[1;33m:\u001b[0m\u001b[1;33m]\u001b[0m \u001b[1;33m=\u001b[0m \u001b[0mnp\u001b[0m\u001b[1;33m.\u001b[0m\u001b[0mtanh\u001b[0m\u001b[1;33m(\u001b[0m\u001b[0mZ\u001b[0m\u001b[1;33m.\u001b[0m\u001b[0mT\u001b[0m \u001b[1;33m@\u001b[0m \u001b[0mW\u001b[0m\u001b[1;33m)\u001b[0m\u001b[1;33m\u001b[0m\u001b[0m\n\u001b[0;32m     34\u001b[0m             \u001b[0mdelta\u001b[0m\u001b[1;33m[\u001b[0m\u001b[1;33m:\u001b[0m\u001b[0mnTargets\u001b[0m\u001b[1;33m,\u001b[0m \u001b[1;33m:\u001b[0m\u001b[1;33m]\u001b[0m \u001b[1;33m=\u001b[0m \u001b[1;36m2\u001b[0m \u001b[1;33m*\u001b[0m \u001b[1;33m(\u001b[0m\u001b[0mY\u001b[0m\u001b[1;33m[\u001b[0m\u001b[0mn\u001b[0m\u001b[1;33m,\u001b[0m \u001b[1;33m:\u001b[0m\u001b[0mnTargets\u001b[0m\u001b[1;33m]\u001b[0m \u001b[1;33m-\u001b[0m \u001b[0mT\u001b[0m\u001b[1;33m[\u001b[0m\u001b[0mn\u001b[0m\u001b[1;33m,\u001b[0m \u001b[1;33m:\u001b[0m\u001b[1;33m]\u001b[0m\u001b[1;33m)\u001b[0m\u001b[1;33m\u001b[0m\u001b[0m\n",
      "\u001b[1;31mValueError\u001b[0m: could not broadcast input array from shape (6) into shape (6,1)"
     ]
    },
    {
     "data": {
      "text/plain": [
       "<matplotlib.figure.Figure at 0x187e6077c18>"
      ]
     },
     "metadata": {},
     "output_type": "display_data"
    }
   ],
   "source": [
    "W = train(X, T, nUnits=4, nIterations=1000, learningRate=0.01)"
   ]
  },
  {
   "cell_type": "code",
   "execution_count": null,
   "metadata": {},
   "outputs": [],
   "source": []
  },
  {
   "cell_type": "code",
   "execution_count": null,
   "metadata": {},
   "outputs": [],
   "source": []
  },
  {
   "cell_type": "code",
   "execution_count": null,
   "metadata": {},
   "outputs": [],
   "source": []
  },
  {
   "cell_type": "code",
   "execution_count": 413,
   "metadata": {},
   "outputs": [],
   "source": [
    "def run(X, T, hiddenUnits, nIterations=100, verbose=False):\n",
    "    if X.shape[1] != 1 or T.shape[1] != 1:\n",
    "        print('This function written for one-dimensional input samples, X, and one-dimensional targets, T.')\n",
    "        return\n",
    "    \n",
    "    nnet = nn.NeuralNetwork(1, hiddenUnits,1 )\n",
    "\n",
    "    nnet.train(X, T, nIterations=nIterations, verbose=verbose)\n",
    "    # print(\"SCG stopped after\",nnet.getNumberOfIterations(),\"iterations:\",nnet.reason)\n",
    "    Y = nnet.use(X)\n",
    "    Ytest, Ztest = nnet.use(Xtest, allOutputs=True)\n",
    "    print('Training took {:.4f} seconds.'.format(nnet.getTrainingTime()))\n",
    "    print(\"Final RMSE: train\", np.sqrt(np.mean((Y-T)**2)), \"test\", np.sqrt(np.mean((Ytest-Ttest)**2)))\n",
    "\n",
    "    plt.figure(figsize=(10, 15))\n",
    "    nHLayers = len(nnet.nhs)\n",
    "    nPlotRows = 3 + nHLayers\n",
    "\n",
    "    plt.subplot(nPlotRows, 1, 1)\n",
    "    plt.plot(nnet.getErrors())\n",
    "    plt.title('Regression Example')\n",
    "\n",
    "    plt.subplot(nPlotRows, 1, 2)\n",
    "    plt.plot(X, T, 'o-', label='Training Data')\n",
    "    plt.plot(X, Y, 'o-', label='Train NN Output')\n",
    "    plt.ylabel('Training Data')\n",
    "    plt.legend(loc='lower right', prop={'size':9})\n",
    "\n",
    "    plt.subplot(nPlotRows, 1, 3)\n",
    "    plt.plot(Xtest, Ttest, 'o-', label='Test Target')\n",
    "    plt.plot(Xtest, Ytest, 'o-', label='Test NN Output')\n",
    "    plt.ylabel('Testing Data')\n",
    "    plt.xlim(0, 10)\n",
    "    plt.legend(loc='lower right', prop={'size':9})\n",
    "    for i in range(nHLayers):\n",
    "        layer = nHLayers-i-1\n",
    "        plt.subplot(nPlotRows, 1, i+4)\n",
    "        plt.plot(Xtest, Ztest[layer])\n",
    "        plt.xlim(0, 10)\n",
    "        plt.ylim(-1.1, 1.1)\n",
    "        plt.ylabel('Hidden Units')\n",
    "        plt.text(8, 0, 'Layer {}'.format(layer+1))\n",
    "    return nnet"
   ]
  },
  {
   "cell_type": "code",
   "execution_count": 419,
   "metadata": {},
   "outputs": [],
   "source": [
    "def run(X, T, hiddenUnits, nIterations=100, verbose=False, saveWeightsHistory=False):\n",
    "    if X.shape[1] != 1 or T.shape[1] != 1:\n",
    "        print('This function written for one-dimensional input samples, X, and one-dimensional targets, T.')\n",
    "        return\n",
    "    nnet = nn.NeuralNetwork(1, hiddenUnits,1 )\n",
    "    nnet.train(X, T, nIterations=nIterations, verbose=verbose, saveWeightsHistory=saveWeightsHistory)\n",
    "    return nnet"
   ]
  },
  {
   "cell_type": "code",
   "execution_count": 417,
   "metadata": {},
   "outputs": [
    {
     "name": "stdout",
     "output_type": "stream",
     "text": [
      "SCG: Iteration 100 fValue Eval 0.409861538594 Scale 1e-15\n",
      "4.38139107516e-17\n",
      "Training took 0.2115 seconds.\n",
      "Final RMSE: train 1.68792686208 test 76.8555494279\n"
     ]
    },
    {
     "data": {
      "text/plain": [
       "NeuralNetwork(1, [50], 1)\n",
       "   Network was trained for 155 iterations that took 0.2115 seconds. Final error is 0.6402042938619723."
      ]
     },
     "execution_count": 417,
     "metadata": {},
     "output_type": "execute_result"
    },
    {
     "data": {
      "image/png": "[encoded data removed]",
      "text/plain": [
       "<matplotlib.figure.Figure at 0x187e61967f0>"
      ]
     },
     "metadata": {},
     "output_type": "display_data"
    }
   ],
   "source": [
    "nnet = run(X, T, [50], nIterations=1000, verbose=True)\n",
    "nnet"
   ]
  },
  {
   "cell_type": "code",
   "execution_count": 420,
   "metadata": {},
   "outputs": [
    {
     "name": "stdout",
     "output_type": "stream",
     "text": [
      "SCG: Iteration 100 fValue Eval 0.409861903369 Scale 1e-15\n",
      "4.76344050954e-17\n"
     ]
    },
    {
     "data": {
      "text/plain": [
       "NeuralNetwork(1, [20, 5, 3], 1)\n",
       "   Network was trained for 190 iterations that took 0.2825 seconds. Final error is 0.6402042938619612."
      ]
     },
     "execution_count": 420,
     "metadata": {},
     "output_type": "execute_result"
    }
   ],
   "source": [
    "nnet = run(X, T, [20, 5, 3], nIterations=1000, verbose=True, saveWeightsHistory=True)\n",
    "nnet"
   ]
  },
  {
   "cell_type": "code",
   "execution_count": 421,
   "metadata": {},
   "outputs": [],
   "source": [
    "from matplotlib import animation\n",
    "import matplotlib # for next statement\n",
    "matplotlib.rc('animation', html='html5')"
   ]
  },
  {
   "cell_type": "code",
   "execution_count": 422,
   "metadata": {},
   "outputs": [
    {
     "data": {
      "image/png": "[encoded data removed]",
      "text/plain": [
       "<matplotlib.figure.Figure at 0x187e6112128>"
      ]
     },
     "metadata": {},
     "output_type": "display_data"
    }
   ],
   "source": [
    "weightsHistory = nnet.getWeightsHistory()\n",
    "nnet._unpack(weightsHistory[0,:])\n",
    "Y = nnet.use(X)\n",
    "Ytest, Ztest = nnet.use(Xtest, allOutputs=True)\n",
    "\n",
    "nHLayers = len(nnet.nhs)\n",
    "nPlotRows = 3 + nHLayers\n",
    "\n",
    "fig = plt.figure(figsize=(10, 15))\n",
    "plt.subplot(nPlotRows, 1, 1)\n",
    "errors = nnet.getErrors()\n",
    "errorsLine = plt.plot(0,errors[0])[0]\n",
    "plt.xlim(0,len(errors))\n",
    "plt.ylim(0,np.max(errors)*1.1)\n",
    "\n",
    "plt.title('Regression Example')\n",
    "\n",
    "plt.subplot(nPlotRows, 1, 2)\n",
    "plt.plot(X, T, 'o-', label='Training Data')\n",
    "trainLine = plt.plot(X, Y, 'o-', label='Train NN Output')[0]\n",
    "plt.ylabel('Training Data')\n",
    "plt.legend(loc='lower right', prop={'size':9})\n",
    "\n",
    "plt.subplot(nPlotRows, 1, 3)\n",
    "plt.plot(Xtest, Ttest, 'o-', label='Test Target')\n",
    "testLine = plt.plot(Xtest, Ytest, 'o-', label='Test NN Output')[0]\n",
    "plt.ylabel('Testing Data')\n",
    "plt.xlim(0, 10)\n",
    "plt.legend(loc='lower right', prop={'size':9})\n",
    "hiddenOutputLines = []\n",
    "for i in range(nHLayers):\n",
    "    layer = nHLayers-i-1\n",
    "    plt.subplot(nPlotRows, 1, i+4)\n",
    "    hiddenOutputLines.append( plt.plot(Xtest, Ztest[layer]) )\n",
    "    plt.xlim(0, 10)\n",
    "    plt.ylim(-1.1, 1.1)\n",
    "    plt.ylabel('Hidden Units')\n",
    "    plt.text(8, 0, 'Layer {}'.format(layer+1))\n",
    "    \n",
    "updatesPerFrame = 2\n",
    "\n",
    "def animator(framei):\n",
    "    step = framei * updatesPerFrame\n",
    "    nnet._unpack(weightsHistory[step,:])\n",
    "    Y = nnet.use(X)\n",
    "    Ytest, Ztest = nnet.use(Xtest, allOutputs=True)\n",
    "    errorsLine.set_data(range(step),errors[:step])\n",
    "    trainLine.set_ydata(Y)\n",
    "    testLine.set_ydata(Ytest)\n",
    "    \n",
    "    for iLayer in range(len(hiddenOutputLines)):\n",
    "        HOLines = hiddenOutputLines[iLayer]\n",
    "        Zlayer = Ztest[nHLayers - iLayer - 1]\n",
    "        for iUnit in range(len(HOLines)):\n",
    "            HOLines[iUnit].set_ydata(Zlayer[:,iUnit])\n",
    "    return [errorsLine, trainLine, testLine] + hiddenOutputLines"
   ]
  },
  {
   "cell_type": "code",
   "execution_count": null,
   "metadata": {},
   "outputs": [],
   "source": []
  },
  {
   "cell_type": "code",
   "execution_count": null,
   "metadata": {},
   "outputs": [],
   "source": []
  },
  {
   "cell_type": "code",
   "execution_count": null,
   "metadata": {},
   "outputs": [],
   "source": []
  },
  {
   "cell_type": "markdown",
   "metadata": {},
   "source": [
    "## Methods"
   ]
  },
  {
   "cell_type": "markdown",
   "metadata": {},
   "source": [
    "Notes: \n",
    "* could seperate all items into train and test data\n",
    "* could train on one item, test on another"
   ]
  },
  {
   "cell_type": "code",
   "execution_count": 41,
   "metadata": {},
   "outputs": [],
   "source": [
    "# This method acts as the reinforcement and accounts for the 15% handling cost for selling items on the market\n",
    "def checkForProfit(price_sold, price_bought):\n",
    "    profit = (price_sold - (price_sold * 0.15)) - price_bought\n",
    "    if profit > 0:\n",
    "        return 1\n",
    "    elif profit < 0:\n",
    "        return -1\n",
    "    else:\n",
    "        return 0"
   ]
  },
  {
   "cell_type": "markdown",
   "metadata": {},
   "source": [
    "## Results"
   ]
  },
  {
   "cell_type": "markdown",
   "metadata": {},
   "source": [
    "## Conclusions"
   ]
  },
  {
   "cell_type": "markdown",
   "metadata": {},
   "source": [
    "## References"
   ]
  }
 ],
 "metadata": {
  "kernelspec": {
   "display_name": "Python 3",
   "language": "python",
   "name": "python3"
  },
  "language_info": {
   "codemirror_mode": {
    "name": "ipython",
    "version": 3
   },
   "file_extension": ".py",
   "mimetype": "text/x-python",
   "name": "python",
   "nbconvert_exporter": "python",
   "pygments_lexer": "ipython3",
   "version": "3.6.3"
  }
 },
 "nbformat": 4,
 "nbformat_minor": 2
}
