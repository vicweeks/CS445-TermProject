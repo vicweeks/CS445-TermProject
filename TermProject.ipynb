{
 "cells": [
  {
   "cell_type": "markdown",
   "metadata": {},
   "source": [
    "# CS445: Term Project"
   ]
  },
  {
   "cell_type": "markdown",
   "metadata": {},
   "source": [
    "#### Victor Weeks & Josh Lutz"
   ]
  },
  {
   "cell_type": "code",
   "execution_count": null,
   "metadata": {},
   "outputs": [],
   "source": [
    "from gw2spidy import Gw2Spidy as spidy # allows retrieval of market information|"
   ]
  },
  {
   "cell_type": "markdown",
   "metadata": {},
   "source": [
    "#### Basic Crafting Materials"
   ]
  },
  {
   "cell_type": "code",
   "execution_count": 11,
   "metadata": {},
   "outputs": [],
   "source": [
    "# Tier 1\n",
    "juteScrap = spidy.getItemData(19718)\n",
    "boltOfJute = spidy.getItemData(19720)\n",
    "copperOre = spidy.getItemData(19697)\n",
    "copperIngot = spidy.getItemData(19680)\n",
    "rawhideLeatherSection = spidy.getItemData(19719)\n",
    "stretchedRawhideLeatherSquare = spidy.getItemData(19738)\n",
    "greenWoodLog = spidy.getItemData(19723)\n",
    "greenWoodPlank = spidy.getItemData(19710)"
   ]
  },
  {
   "cell_type": "code",
   "execution_count": 12,
   "metadata": {},
   "outputs": [],
   "source": [
    "# Tier 2\n",
    "woolScrap = spidy.getItemData(19739)\n",
    "boltOfWool = spidy.getItemData(19740)\n",
    "ironOre = spidy.getItemData(19699)\n",
    "ironIngot = spidy.getItemData(19683)\n",
    "silverOre = spidy.getItemData(19703)\n",
    "silverIngot = spidy.getItemData(19687)\n",
    "thinLeatherSection = spidy.getItemData(19728)\n",
    "curedThinLeatherSquare = spidy.getItemData(19733)\n",
    "softWoodLog = spidy.getItemData(19726)\n",
    "softWoodPlank = spidy.getItemData(19713)"
   ]
  },
  {
   "cell_type": "code",
   "execution_count": 13,
   "metadata": {},
   "outputs": [],
   "source": [
    "# Tier 3\n",
    "cottonScrap = spidy.getItemData(19741)\n",
    "boltOfCotton = spidy.getItemData(19742)\n",
    "goldOre = spidy.getItemData(19698)\n",
    "goldIngot = spidy.getItemData(19682)\n",
    "coarseLeatherSection = spidy.getItemData(19730)\n",
    "curedCoarseLeatherSquare = spidy.getItemData(19734)\n",
    "seasonedWoodLog = spidy.getItemData(19727)\n",
    "seasonedWoodPlank = spidy.getItemData(19714)"
   ]
  },
  {
   "cell_type": "code",
   "execution_count": 14,
   "metadata": {},
   "outputs": [],
   "source": [
    "# Tier 4\n",
    "linenScrap = spidy.getItemData(19743)\n",
    "boltOfLinen = spidy.getItemData(19744)\n",
    "platinumOre = spidy.getItemData(19702)\n",
    "platinumIngot = spidy.getItemData(19686)\n",
    "ruggedLeatherSection = spidy.getItemData(19731)\n",
    "curedRuggedLeatherSquare = spidy.getItemData(19736)\n",
    "hardWoodLog = spidy.getItemData(19724)\n",
    "hardWoodPlank = spidy.getItemData(19711)"
   ]
  },
  {
   "cell_type": "code",
   "execution_count": 15,
   "metadata": {},
   "outputs": [],
   "source": [
    "# Tier 5\n",
    "silkScrap = spidy.getItemData(19748)\n",
    "boltOfSilk = spidy.getItemData(19747)\n",
    "mithrilOre = spidy.getItemData(19700)\n",
    "mithrilIngot = spidy.getItemData(19684)\n",
    "thickLeatherSection = spidy.getItemData(19729)\n",
    "curedThickLeatherSection = spidy.getItemData(19735)\n",
    "elderWoodLog = spidy.getItemData(19722)\n",
    "elderWoodPlank = spidy.getItemData(19709)"
   ]
  },
  {
   "cell_type": "code",
   "execution_count": 16,
   "metadata": {},
   "outputs": [],
   "source": [
    "# Tier 6\n",
    "gossamerScrap = spidy.getItemData(19745)\n",
    "boltOfGossamer = spidy.getItemData(19746)\n",
    "orichalcumOre = spidy.getItemData(19701)\n",
    "orichalcumIngot = spidy.getItemData(19685)\n",
    "hardenedLeatherSection = spidy.getItemData(19732)\n",
    "curedHardenedLeatherSquare = spidy.getItemData(19737)\n",
    "ancientWoodLog = spidy.getItemData(19725)\n",
    "ancientWoodPlank = spidy.getItemData(19712)"
   ]
  },
  {
   "cell_type": "code",
   "execution_count": 20,
   "metadata": {},
   "outputs": [],
   "source": [
    "# Misc.\n",
    "pileOfFlaxSeeds = spidy.getItemData(74090)"
   ]
  },
  {
   "cell_type": "code",
   "execution_count": 19,
   "metadata": {},
   "outputs": [
    {
     "data": {
      "text/plain": [
       "'Iron Ingot'"
      ]
     },
     "execution_count": 19,
     "metadata": {},
     "output_type": "execute_result"
    }
   ],
   "source": [
    "ironIngot['name']"
   ]
  },
  {
   "cell_type": "code",
   "execution_count": null,
   "metadata": {},
   "outputs": [],
   "source": [
    "spidy.getItemBuyListings(19699)"
   ]
  },
  {
   "cell_type": "code",
   "execution_count": null,
   "metadata": {},
   "outputs": [],
   "source": []
  }
 ],
 "metadata": {
  "kernelspec": {
   "display_name": "Python 3",
   "language": "python",
   "name": "python3"
  },
  "language_info": {
   "codemirror_mode": {
    "name": "ipython",
    "version": 3
   },
   "file_extension": ".py",
   "mimetype": "text/x-python",
   "name": "python",
   "nbconvert_exporter": "python",
   "pygments_lexer": "ipython3",
   "version": "3.6.3"
  }
 },
 "nbformat": 4,
 "nbformat_minor": 2
}
