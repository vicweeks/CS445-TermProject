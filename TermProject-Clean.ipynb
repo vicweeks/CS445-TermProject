{
 "cells": [
  {
   "cell_type": "markdown",
   "metadata": {},
   "source": [
    "# CS445: Term Project"
   ]
  },
  {
   "cell_type": "markdown",
   "metadata": {},
   "source": [
    "#### Victor Weeks & Josh Lutz"
   ]
  },
  {
   "cell_type": "markdown",
   "metadata": {},
   "source": [
    "Note: I think I am going to explore changing my idea to taking current inventory info and deciding how best to make a profit"
   ]
  },
  {
   "cell_type": "markdown",
   "metadata": {},
   "source": [
    "## Introduction"
   ]
  },
  {
   "cell_type": "code",
   "execution_count": 2,
   "metadata": {
    "collapsed": true
   },
   "outputs": [],
   "source": [
    "from gw2spidy import Gw2Spidy as spidy # allows retrieval of market information\n",
    "import numpy as np\n",
    "import json\n",
    "import random\n",
    "import neuralnetworksA4 as nn\n",
    "import matplotlib.pyplot as plt\n",
    "%matplotlib inline"
   ]
  },
  {
   "cell_type": "markdown",
   "metadata": {},
   "source": [
    "### Data"
   ]
  },
  {
   "cell_type": "code",
   "execution_count": 3,
   "metadata": {
    "collapsed": true
   },
   "outputs": [],
   "source": [
    "itemIDs = (19718,19720,19697,19680,19719,19738,19723,19710,\n",
    "           19739,19740,19699,19683,19703,19687,19728,19733,19726,19713,\n",
    "           19741,19742,19698,19682,19730,19734,19727,19714,\n",
    "           19743,19744,19702,19686,19731,19736,19736,19724,19711,\n",
    "           19748,19747,19700,19684,19729,19735,19722,19709,\n",
    "           19745,19746,19701,19685,19732,19737,19725,19712)"
   ]
  },
  {
   "cell_type": "code",
   "execution_count": 4,
   "metadata": {
    "collapsed": true
   },
   "outputs": [],
   "source": [
    "from datetime import datetime"
   ]
  },
  {
   "cell_type": "code",
   "execution_count": 27,
   "metadata": {},
   "outputs": [
    {
     "data": {
      "text/plain": [
       "(10302, 13)"
      ]
     },
     "execution_count": 27,
     "metadata": {},
     "output_type": "execute_result"
    }
   ],
   "source": [
    "itemTimeData = np.load('itemData.npy')\n",
    "itemTimeData.shape"
   ]
  },
  {
   "cell_type": "code",
   "execution_count": 28,
   "metadata": {
    "collapsed": true
   },
   "outputs": [],
   "source": [
    "names = ['item_id', 'max_offer_price', 'min_sale_price', 'offer_availability', 'sale_availability', 'sale_price_change', 'offer_price_change', 'year', 'month', 'day', 'hour', 'minute', 'second']"
   ]
  },
  {
   "cell_type": "code",
   "execution_count": 29,
   "metadata": {
    "collapsed": true
   },
   "outputs": [],
   "source": [
    "def makeItemData(itemID=19718, allItems=False, splitData=False, stepsAheadToPredict=4):\n",
    "    itemTimeData = np.load('itemData.npy')\n",
    "    if allItems:\n",
    "        itemData = np.mean(itemTimeData[0:50], axis=0).reshape((1,-1))\n",
    "        for bucket in itemTimeData[51::51]:\n",
    "            itemData = np.vstack((itemData, np.mean(bucket.reshape((1,-1)), axis=0).reshape((1,-1))))\n",
    "    else:\n",
    "        itemData = itemTimeData[np.where(itemTimeData[:]==itemID)[0]]\n",
    "    X = itemData[:-stepsAheadToPredict, 1:7].copy()\n",
    "    T = itemData[stepsAheadToPredict:, 1:2].copy()\n",
    "    if splitData:\n",
    "        rows = np.arange(X.shape[0])\n",
    "        nTrain = int(X.shape[0] * 0.7)\n",
    "        Xtrain = X[rows[:nTrain],:]\n",
    "        Ttrain = T[rows[:nTrain],:]\n",
    "        Xtest = X[rows[nTrain:],:]\n",
    "        Ttest = T[rows[nTrain:],:]\n",
    "        return Xtrain, Ttrain, Xtest, Ttest\n",
    "    else:        \n",
    "        return X, T, itemData"
   ]
  },
  {
   "cell_type": "markdown",
   "metadata": {},
   "source": [
    "Note: Had to make sure to copy the X and T data because of how the Time-Embedded data is accessed."
   ]
  },
  {
   "cell_type": "code",
   "execution_count": 30,
   "metadata": {},
   "outputs": [
    {
     "data": {
      "text/plain": [
       "((198, 6), (198, 1), (198, 6), (198, 1))"
      ]
     },
     "execution_count": 30,
     "metadata": {},
     "output_type": "execute_result"
    }
   ],
   "source": [
    "Xtrain, Ttrain, items = makeItemData(allItems=True) # training with all items\n",
    "Xtest, Ttest, item1 = makeItemData(19735)\n",
    "Xtrain.shape, Ttrain.shape, Xtest.shape, Ttest.shape"
   ]
  },
  {
   "cell_type": "code",
   "execution_count": 31,
   "metadata": {},
   "outputs": [
    {
     "data": {
      "text/plain": [
       "((138, 6), (138, 1), (60, 6), (60, 1))"
      ]
     },
     "execution_count": 31,
     "metadata": {},
     "output_type": "execute_result"
    }
   ],
   "source": [
    "Xtrain, Ttrain, Xtest, Ttest = makeItemData(19743, allItems=True, splitData=True) #Train and test with all items\n",
    "Xtrain.shape, Ttrain.shape, Xtest.shape, Ttest.shape"
   ]
  },
  {
   "cell_type": "code",
   "execution_count": 34,
   "metadata": {
    "collapsed": true
   },
   "outputs": [],
   "source": [
    "def rmse(A, B):\n",
    "    return np.sqrt(np.mean((A - B)**2))"
   ]
  },
  {
   "cell_type": "code",
   "execution_count": 72,
   "metadata": {
    "collapsed": true
   },
   "outputs": [],
   "source": [
    "import pandas as pd\n",
    "def getBestAvgNeuralStructure(Xtrain,Xtest,Ttrain,Ttest,nIterations=1000,timesToAvg=5,plot=False):\n",
    "    errors = []\n",
    "    for hids in hiddens:\n",
    "        errorTrain = 0\n",
    "        errorTest = 0\n",
    "        errorAvg = 0\n",
    "        for _ in range(timesToAvg):\n",
    "            nnet = nn.NeuralNetwork(Xtrain.shape[1], hids, Ttrain.shape[1])\n",
    "            nnet.train(Xtrain, Ttrain, nIterations)\n",
    "            errorTrain += rmse(Ttrain, nnet.use(Xtrain))\n",
    "            errorTest += rmse(Ttest, nnet.use(Xtest))\n",
    "            errorAvg = (errorTrain + errorTest)/2\n",
    "        errors.append([hids,errorTrain/timesToAvg,errorTest/timesToAvg,errorAvg/timesToAvg])\n",
    "    errors = pd.DataFrame(errors)\n",
    "    print(errors)\n",
    "    if plot==True:\n",
    "        plt.figure(figsize=(10, 10))\n",
    "        plt.plot(errors.values[:, 1:], 'o-')\n",
    "        plt.title('RMSE Values for Neural Net')\n",
    "        plt.legend(('Train', 'Test', 'Avg Error'))\n",
    "        plt.xticks(range(errors.shape[0]), hiddens, rotation=30, horizontalalignment='right')\n",
    "        plt.grid(True)\n",
    "    minErrorAverage = errors[3].min()\n",
    "    minIndex = list(errors[3]).index(minErrorAverage)\n",
    "    bestHids = errors[0][minIndex]\n",
    "    print('Lowest average error over',timesToAvg,'fully trained iterations:',bestHids,'with error:',minErrorAverage)\n",
    "    return bestHids"
   ]
  },
  {
   "cell_type": "code",
   "execution_count": 74,
   "metadata": {},
   "outputs": [
    {
     "name": "stdout",
     "output_type": "stream",
     "text": [
      "                       0         1         2         3\n",
      "0                      0  1.429377  0.761946  1.095662\n",
      "1                    [1]  1.481404  0.789779  1.135592\n",
      "2                 [1, 1]  1.571617  1.000154  1.285885\n",
      "3              [1, 1, 1]  1.576359  0.966634  1.271497\n",
      "4           [1, 1, 1, 1]  1.583915  0.975007  1.279461\n",
      "5        [1, 1, 1, 1, 1]  1.593949  0.907186  1.250568\n",
      "6                    [5]  1.421664  0.828404  1.125034\n",
      "7                 [5, 5]  1.554480  0.909564  1.232022\n",
      "8              [5, 5, 5]  1.576041  0.997180  1.286611\n",
      "9           [5, 5, 5, 5]  1.576860  0.981208  1.279034\n",
      "10       [5, 5, 5, 5, 5]  1.580608  0.968615  1.274612\n",
      "11                  [10]  1.408775  0.783036  1.095905\n",
      "12              [10, 10]  1.509570  0.897664  1.203617\n",
      "13          [10, 10, 10]  1.568186  0.902814  1.235500\n",
      "14      [10, 10, 10, 10]  1.565448  1.007466  1.286457\n",
      "15  [10, 10, 10, 10, 10]  1.579986  0.981686  1.280836\n",
      "16                  [20]  1.377265  0.767139  1.072202\n",
      "17              [20, 20]  1.464581  0.827221  1.145901\n",
      "18          [20, 20, 20]  1.525711  0.905932  1.215821\n",
      "19      [20, 20, 20, 20]  1.563597  0.933082  1.248340\n",
      "20  [20, 20, 20, 20, 20]  1.563541  0.942675  1.253108\n",
      "21                  [50]  1.357624  0.771014  1.064319\n",
      "22              [50, 50]  1.377704  0.788101  1.082903\n",
      "23          [50, 50, 50]  1.420915  0.766586  1.093751\n",
      "24      [50, 50, 50, 50]  1.495536  0.792815  1.144175\n",
      "25  [50, 50, 50, 50, 50]  1.565804  0.992447  1.279125\n",
      "Lowest average error over 5 fully trained iterations: [50] with error: 1.06431894982\n"
     ]
    },
    {
     "data": {
      "text/plain": [
       "[50]"
      ]
     },
     "execution_count": 74,
     "metadata": {},
     "output_type": "execute_result"
    },
    {
     "data": {
      "image/png": "[encoded data removed]",
      "text/plain": [
       "<matplotlib.figure.Figure at 0x27f2c6cfac8>"
      ]
     },
     "metadata": {},
     "output_type": "display_data"
    }
   ],
   "source": [
    "getBestAvgNeuralStructure(XtrainW,XtestW,TtrainW,TtestW,1,5,True)"
   ]
  },
  {
   "cell_type": "markdown",
   "metadata": {},
   "source": [
    "#### Time-Embedding"
   ]
  },
  {
   "cell_type": "code",
   "execution_count": 12,
   "metadata": {
    "collapsed": true
   },
   "outputs": [],
   "source": [
    "def rollingWindows(X, windowSize):    \n",
    "    nSamples, nAttributes = X.shape\n",
    "    nWindows = nSamples - windowSize + 1\n",
    "    # Shape of resulting matrix\n",
    "    newShape = (nWindows, nAttributes * windowSize)\n",
    "    itemSize = X.itemsize  # number of bytes\n",
    "    # Number of bytes to increment to starting element in each dimension\n",
    "    strides = (nAttributes * itemSize, itemSize)\n",
    "    return np.lib.stride_tricks.as_strided(X, shape=newShape, strides=strides)"
   ]
  },
  {
   "cell_type": "code",
   "execution_count": 13,
   "metadata": {},
   "outputs": [
    {
     "data": {
      "text/plain": [
       "((137, 12), (137, 2), (59, 12), (59, 2))"
      ]
     },
     "execution_count": 13,
     "metadata": {},
     "output_type": "execute_result"
    }
   ],
   "source": [
    "XtrainW = rollingWindows(Xtrain, 2)\n",
    "TtrainW = rollingWindows(Ttrain, 2)\n",
    "XtestW = rollingWindows(Xtest, 2)\n",
    "TtestW = rollingWindows(Ttest, 2)\n",
    "XtrainW.shape, TtrainW.shape, XtestW.shape, TtestW.shape"
   ]
  },
  {
   "cell_type": "code",
   "execution_count": 14,
   "metadata": {},
   "outputs": [
    {
     "data": {
      "text/plain": [
       "array([[  3.18580000e+02,   3.58220000e+02,   5.57863420e+05,\n",
       "          1.63556236e+06,   0.00000000e+00,   0.00000000e+00],\n",
       "       [  7.70000000e+01,   9.20000000e+01,   6.64614000e+05,\n",
       "          4.51649000e+05,   0.00000000e+00,   0.00000000e+00]])"
      ]
     },
     "execution_count": 14,
     "metadata": {},
     "output_type": "execute_result"
    }
   ],
   "source": [
    "Xtrain[0:2]"
   ]
  },
  {
   "cell_type": "code",
   "execution_count": 15,
   "metadata": {},
   "outputs": [
    {
     "data": {
      "text/plain": [
       "array([  3.18580000e+02,   3.58220000e+02,   5.57863420e+05,\n",
       "         1.63556236e+06,   0.00000000e+00,   0.00000000e+00,\n",
       "         7.70000000e+01,   9.20000000e+01,   6.64614000e+05,\n",
       "         4.51649000e+05,   0.00000000e+00,   0.00000000e+00])"
      ]
     },
     "execution_count": 15,
     "metadata": {},
     "output_type": "execute_result"
    }
   ],
   "source": [
    "XtrainW[0]"
   ]
  },
  {
   "cell_type": "code",
   "execution_count": 16,
   "metadata": {},
   "outputs": [
    {
     "name": "stdout",
     "output_type": "stream",
     "text": [
      "SCG: Iteration 100 fValue Eval 0.257318363333 Scale 1e-15\n",
      "SCG: Iteration 200 fValue Eval 0.223812384722 Scale 1e-15\n",
      "SCG: Iteration 300 fValue Eval 0.176662433645 Scale 1e-15\n",
      "SCG: Iteration 400 fValue Eval 0.156707204184 Scale 1e-15\n",
      "SCG: Iteration 500 fValue Eval 0.154519192839 Scale 1e-15\n",
      "SCG: Iteration 600 fValue Eval 0.152376183021 Scale 1e-15\n",
      "SCG: Iteration 700 fValue Eval 0.15033338351 Scale 1e-15\n",
      "SCG: Iteration 800 fValue Eval 0.147998688858 Scale 1e-15\n",
      "SCG: Iteration 900 fValue Eval 0.144842837622 Scale 1e-15\n",
      "SCG: Iteration 1000 fValue Eval 0.140550498069 Scale 1e-15\n"
     ]
    },
    {
     "data": {
      "text/plain": [
       "NeuralNetwork(6, [10, 10, 10], 1)\n",
       "   Network was trained for 1001 iterations that took 1.1886 seconds. Final error is 0.37490065093186237."
      ]
     },
     "execution_count": 16,
     "metadata": {},
     "output_type": "execute_result"
    }
   ],
   "source": [
    "nnet = nn.NeuralNetwork(Xtrain.shape[1], [10,10,10], Ttrain.shape[1])\n",
    "nnet.train(Xtrain, Ttrain, 1000, verbose=True)"
   ]
  },
  {
   "cell_type": "code",
   "execution_count": 17,
   "metadata": {},
   "outputs": [
    {
     "data": {
      "image/png": "[encoded data removed]",
      "text/plain": [
       "<matplotlib.figure.Figure at 0x27f28780518>"
      ]
     },
     "metadata": {},
     "output_type": "display_data"
    }
   ],
   "source": [
    "nnet.draw()"
   ]
  },
  {
   "cell_type": "code",
   "execution_count": 18,
   "metadata": {},
   "outputs": [
    {
     "name": "stdout",
     "output_type": "stream",
     "text": [
      "NeuralNetwork(6, [10, 10, 10], 1)\n",
      "   Network was trained for 1001 iterations that took 1.1886 seconds. Final error is 0.37490065093186237.\n"
     ]
    },
    {
     "data": {
      "image/png": "[encoded data removed]",
      "text/plain": [
       "<matplotlib.figure.Figure at 0x27f28b80828>"
      ]
     },
     "metadata": {},
     "output_type": "display_data"
    }
   ],
   "source": [
    "fig = plt.figure(figsize=(15,5))\n",
    "plt.subplot(1,3,1)\n",
    "plt.plot(nnet.getErrors())\n",
    "print(nnet)\n",
    "\n",
    "Y = nnet.use(Xtest)\n",
    "plt.subplot(1,2,2)\n",
    "plt.plot(Y, label='Predicted_Max_Offer')\n",
    "plt.plot(Ttest, label='Target_Max_Offer')\n",
    "plt.legend();"
   ]
  },
  {
   "cell_type": "code",
   "execution_count": 19,
   "metadata": {},
   "outputs": [
    {
     "data": {
      "text/plain": [
       "116"
      ]
     },
     "execution_count": 19,
     "metadata": {},
     "output_type": "execute_result"
    }
   ],
   "source": [
    "keepTrain = [ len(np.unique(Trow))==1 for Trow in TtrainW ]\n",
    "keepTest = [ len(np.unique(Trow))==1 for Trow in TtestW ]\n",
    "sum(keepTrain)"
   ]
  },
  {
   "cell_type": "code",
   "execution_count": 20,
   "metadata": {
    "collapsed": true
   },
   "outputs": [],
   "source": [
    "XtrainW = XtrainW[keepTrain, :]\n",
    "TtrainW = TtrainW[keepTrain, :]\n",
    "TtrainW = TtrainW[:, 0:1] # reduce to single class label\n",
    "\n",
    "XtestW = XtestW[keepTest, :]\n",
    "TtestW = TtestW[keepTest, :]\n",
    "TtestW = TtestW[:, 0:1] # reduce to single class label"
   ]
  },
  {
   "cell_type": "code",
   "execution_count": 21,
   "metadata": {},
   "outputs": [
    {
     "name": "stdout",
     "output_type": "stream",
     "text": [
      "SCG: Iteration 100 fValue Eval 0.0689566428167 Scale 1e-15\n",
      "SCG: Iteration 200 fValue Eval 0.0337889637952 Scale 1e-15\n",
      "SCG: Iteration 300 fValue Eval 0.0259649331972 Scale 1e-15\n",
      "SCG: Iteration 400 fValue Eval 0.0219462078174 Scale 1e-15\n",
      "SCG: Iteration 500 fValue Eval 0.0108556535825 Scale 1e-15\n",
      "SCG: Iteration 600 fValue Eval 0.00350756001693 Scale 1e-15\n",
      "SCG: Iteration 700 fValue Eval 0.00221208157337 Scale 1e-15\n",
      "SCG: Iteration 800 fValue Eval 0.00174119483695 Scale 1e-15\n",
      "SCG: Iteration 900 fValue Eval 0.00119739510318 Scale 1e-15\n",
      "SCG: Iteration 1000 fValue Eval 0.000994592085493 Scale 1e-15\n"
     ]
    },
    {
     "data": {
      "text/plain": [
       "NeuralNetwork(12, [10, 10, 10], 1)\n",
       "   Network was trained for 1001 iterations that took 1.1720 seconds. Final error is 0.03153715404871833."
      ]
     },
     "execution_count": 21,
     "metadata": {},
     "output_type": "execute_result"
    }
   ],
   "source": [
    "nnet = nn.NeuralNetwork(XtrainW.shape[1], [10,10,10], TtrainW.shape[1])\n",
    "nnet.train(XtrainW/(XtrainW.max(axis=0)), TtrainW/(TtrainW.max(axis=0)), 1000, verbose=True)"
   ]
  },
  {
   "cell_type": "code",
   "execution_count": 22,
   "metadata": {},
   "outputs": [
    {
     "name": "stdout",
     "output_type": "stream",
     "text": [
      "NeuralNetwork(12, [10, 10, 10], 1)\n",
      "   Network was trained for 1001 iterations that took 1.1720 seconds. Final error is 0.03153715404871833.\n"
     ]
    },
    {
     "name": "stderr",
     "output_type": "stream",
     "text": [
      "C:\\Users\\Pooka\\Anaconda3\\lib\\site-packages\\ipykernel_launcher.py:6: RuntimeWarning: divide by zero encountered in true_divide\n",
      "  \n",
      "C:\\Users\\Pooka\\Anaconda3\\lib\\site-packages\\ipykernel_launcher.py:6: RuntimeWarning: invalid value encountered in true_divide\n",
      "  \n"
     ]
    },
    {
     "data": {
      "image/png": "[encoded data removed]",
      "text/plain": [
       "<matplotlib.figure.Figure at 0x27f28b62c88>"
      ]
     },
     "metadata": {},
     "output_type": "display_data"
    }
   ],
   "source": [
    "fig = plt.figure(figsize=(15,5))\n",
    "plt.subplot(1,2,1)\n",
    "plt.plot(nnet.getErrors())\n",
    "print(nnet)\n",
    "\n",
    "Y = nnet.use(XtestW/(XtestW.max(axis=0)))\n",
    "plt.subplot(1,2,2)\n",
    "plt.plot(Y, label='Predicted')\n",
    "plt.plot(TtestW/(TtestW.max(axis=0)), label='Target')\n",
    "plt.legend();"
   ]
  },
  {
   "cell_type": "markdown",
   "metadata": {},
   "source": [
    "#### Recurrent Neural Network"
   ]
  },
  {
   "cell_type": "code",
   "execution_count": null,
   "metadata": {},
   "outputs": [],
   "source": [
    "X[0:2]"
   ]
  },
  {
   "cell_type": "code",
   "execution_count": null,
   "metadata": {
    "collapsed": true
   },
   "outputs": [],
   "source": [
    "plt.figure(figsize=(15,15))\n",
    "nrow, ncol = item1.shape\n",
    "for c in range(ncol):\n",
    "    plt.subplot(4, 4, c+1)\n",
    "    plt.plot(item1[:, c])\n",
    "    plt.tight_layout()"
   ]
  },
  {
   "cell_type": "code",
   "execution_count": null,
   "metadata": {
    "collapsed": true
   },
   "outputs": [],
   "source": [
    "Tnames = names[1:2]\n",
    "Xnames = names[1:]"
   ]
  },
  {
   "cell_type": "code",
   "execution_count": null,
   "metadata": {
    "collapsed": true
   },
   "outputs": [],
   "source": [
    "def plotItemData(Tplot=0):\n",
    "    plt.figure(figsize=(10,10))\n",
    "    for c in range(X.shape[1]):           \n",
    "        plt.subplot(3, 2, c+1)\n",
    "        plt.plot(X[:, c], T[:, Tplot], 'o', alpha=0.5)\n",
    "        plt.ylabel(Tnames[Tplot])\n",
    "        plt.xlabel(Xnames[c])\n",
    "        plt.tight_layout()"
   ]
  },
  {
   "cell_type": "code",
   "execution_count": null,
   "metadata": {
    "collapsed": true
   },
   "outputs": [],
   "source": [
    "plotItemData(Tplot=0)"
   ]
  },
  {
   "cell_type": "code",
   "execution_count": null,
   "metadata": {
    "collapsed": true
   },
   "outputs": [],
   "source": [
    "plotItemData(Tplot=1)"
   ]
  },
  {
   "cell_type": "code",
   "execution_count": null,
   "metadata": {
    "collapsed": true
   },
   "outputs": [],
   "source": [
    "plotItemData(Tplot=2)"
   ]
  },
  {
   "cell_type": "code",
   "execution_count": null,
   "metadata": {
    "collapsed": true
   },
   "outputs": [],
   "source": [
    "plotItemData(Tplot=3)"
   ]
  },
  {
   "cell_type": "code",
   "execution_count": null,
   "metadata": {
    "collapsed": true
   },
   "outputs": [],
   "source": [
    "plotItemData(Tplot=4)"
   ]
  },
  {
   "cell_type": "code",
   "execution_count": null,
   "metadata": {
    "collapsed": true
   },
   "outputs": [],
   "source": [
    "plotItemData(Tplot=5)"
   ]
  },
  {
   "cell_type": "code",
   "execution_count": null,
   "metadata": {
    "collapsed": true
   },
   "outputs": [],
   "source": []
  },
  {
   "cell_type": "code",
   "execution_count": null,
   "metadata": {
    "collapsed": true
   },
   "outputs": [],
   "source": []
  },
  {
   "cell_type": "code",
   "execution_count": null,
   "metadata": {
    "collapsed": true
   },
   "outputs": [],
   "source": []
  },
  {
   "cell_type": "code",
   "execution_count": null,
   "metadata": {
    "collapsed": true
   },
   "outputs": [],
   "source": []
  },
  {
   "cell_type": "code",
   "execution_count": null,
   "metadata": {
    "collapsed": true
   },
   "outputs": [],
   "source": []
  },
  {
   "cell_type": "code",
   "execution_count": null,
   "metadata": {
    "collapsed": true
   },
   "outputs": [],
   "source": [
    "def train(X, T, nUnits=3, nIterations=2000, learningRate=0.01, W=None):\n",
    "    \n",
    "    nSamples, nInputs = X.shape\n",
    "    nTargets = T.shape[1]\n",
    "\n",
    "    if W is None:\n",
    "        W = np.random.uniform(-1, 1, (1+nInputs+nUnits, nUnits)) / np.sqrt(1+nInputs+nUnits)\n",
    "\n",
    "    Y = np.zeros((nSamples, nUnits))\n",
    "    P = np.zeros((1+nInputs+nUnits, nUnits, nUnits))\n",
    "    Z = np.zeros((1+nInputs+nUnits, 1))\n",
    "    Z[0,:] = 1\n",
    "    delta = np.zeros((nUnits, 1))\n",
    "    dW = np.zeros_like(W)\n",
    "\n",
    "    errors = np.zeros(nIterations)\n",
    "    errors[:] = np.nan\n",
    "    Ws = np.zeros((nIterations, (1+nInputs+nUnits)*nUnits))\n",
    "    Ws[:] = np.nan\n",
    "\n",
    "    fig = plt.figure(figsize=(10, 15))\n",
    "\n",
    "    for iteration in range(nIterations):\n",
    "        Y[:] = 0\n",
    "        P[:] = 0\n",
    "        dW[:] = 0\n",
    "        errSum = 0\n",
    "        Z[1+nInputs:] = 0\n",
    "        for n in range(nSamples):\n",
    "            # if n % 10 == 0:\n",
    "            #     P[:] = 0\n",
    "            Z[1:1+nInputs] = X[n, :]\n",
    "            Y[n, :] = np.tanh(Z.T @ W)\n",
    "            delta[:nTargets, :] = 2 * (Y[n, :nTargets] - T[n, :])\n",
    "            dW += np.squeeze(P @ delta)\n",
    "            Z[1+nInputs:,0] = Y[n, :]\n",
    "            PW = P @ W[1+nInputs:, :]\n",
    "            PW[:, range(nUnits), range(nUnits)] += Z\n",
    "            P = (1 - Y[n, :]**2) * PW\n",
    "            errSum += (Y[n,:nTargets] - T[n,:])**2\n",
    "            W = W - learningRate * dW / nSamples\n",
    "        \n",
    "        errors[iteration] = np.sqrt(errSum/nSamples)\n",
    "        Ws[iteration, :] = W.flat\n",
    "       \n",
    "        if iteration % ((nIterations+1)//20) == 0:\n",
    "            fig.clf()\n",
    "            plt.subplot(4, 1, 1)\n",
    "            plt.plot(errors)\n",
    "            plt.xlim(0, nIterations)\n",
    "            # plt.ylim(0, 0.3)\n",
    "            plt.xlabel('Iteration')\n",
    "            plt.ylabel('RMS Error')\n",
    "            \n",
    "            plt.subplot(4, 1, 2)\n",
    "            # plt.plot(X, label='Input')\n",
    "            plt.plot(T, label='Target')\n",
    "            plt.plot(Y[:,:nTargets], label='Trained Unit 0')\n",
    "            plt.legend()\n",
    "            \n",
    "            plt.subplot(4, 1, 3)\n",
    "            plt.plot(Y)\n",
    "            plt.ylabel('All Unit Outputs')\n",
    "            labels = ['Trained Unit 0']\n",
    "            for u in range(1,nUnits):\n",
    "                labels += ['Unit {}'.format(u)]\n",
    "            plt.legend(labels)\n",
    "            \n",
    "            plt.subplot(4, 1, 4)\n",
    "            plt.plot(Ws)\n",
    "            plt.xlim(0, nIterations)\n",
    "            plt.xlabel('Iteration')\n",
    "            plt.ylabel('Weights')\n",
    "            labels = []\n",
    "            for u in range(nUnits):\n",
    "                labels += ['{} bias'.format(u), '{} input'.format(u), '{} recurrent'.format(u)]\n",
    "            plt.legend(labels)\n",
    "\n",
    "            clear_output(wait=True)\n",
    "            display(fig);\n",
    "    \n",
    "    clear_output(wait=True)\n",
    "    return W"
   ]
  },
  {
   "cell_type": "code",
   "execution_count": null,
   "metadata": {
    "collapsed": true
   },
   "outputs": [],
   "source": [
    "from IPython.display import display, clear_output"
   ]
  },
  {
   "cell_type": "code",
   "execution_count": null,
   "metadata": {},
   "outputs": [],
   "source": [
    "W = train(X, T, nUnits=4, nIterations=1000, learningRate=0.01)"
   ]
  },
  {
   "cell_type": "code",
   "execution_count": null,
   "metadata": {
    "collapsed": true
   },
   "outputs": [],
   "source": []
  },
  {
   "cell_type": "code",
   "execution_count": null,
   "metadata": {
    "collapsed": true
   },
   "outputs": [],
   "source": []
  },
  {
   "cell_type": "code",
   "execution_count": null,
   "metadata": {
    "collapsed": true
   },
   "outputs": [],
   "source": []
  },
  {
   "cell_type": "code",
   "execution_count": null,
   "metadata": {
    "collapsed": true
   },
   "outputs": [],
   "source": [
    "def run(X, T, hiddenUnits, nIterations=100, verbose=False):\n",
    "    if X.shape[1] != 1 or T.shape[1] != 1:\n",
    "        print('This function written for one-dimensional input samples, X, and one-dimensional targets, T.')\n",
    "        return\n",
    "    \n",
    "    nnet = nn.NeuralNetwork(1, hiddenUnits,1 )\n",
    "\n",
    "    nnet.train(X, T, nIterations=nIterations, verbose=verbose)\n",
    "    # print(\"SCG stopped after\",nnet.getNumberOfIterations(),\"iterations:\",nnet.reason)\n",
    "    Y = nnet.use(X)\n",
    "    Ytest, Ztest = nnet.use(Xtest, allOutputs=True)\n",
    "    print('Training took {:.4f} seconds.'.format(nnet.getTrainingTime()))\n",
    "    print(\"Final RMSE: train\", np.sqrt(np.mean((Y-T)**2)), \"test\", np.sqrt(np.mean((Ytest-Ttest)**2)))\n",
    "\n",
    "    plt.figure(figsize=(10, 15))\n",
    "    nHLayers = len(nnet.nhs)\n",
    "    nPlotRows = 3 + nHLayers\n",
    "\n",
    "    plt.subplot(nPlotRows, 1, 1)\n",
    "    plt.plot(nnet.getErrors())\n",
    "    plt.title('Regression Example')\n",
    "\n",
    "    plt.subplot(nPlotRows, 1, 2)\n",
    "    plt.plot(X, T, 'o-', label='Training Data')\n",
    "    plt.plot(X, Y, 'o-', label='Train NN Output')\n",
    "    plt.ylabel('Training Data')\n",
    "    plt.legend(loc='lower right', prop={'size':9})\n",
    "\n",
    "    plt.subplot(nPlotRows, 1, 3)\n",
    "    plt.plot(Xtest, Ttest, 'o-', label='Test Target')\n",
    "    plt.plot(Xtest, Ytest, 'o-', label='Test NN Output')\n",
    "    plt.ylabel('Testing Data')\n",
    "    plt.xlim(0, 10)\n",
    "    plt.legend(loc='lower right', prop={'size':9})\n",
    "    for i in range(nHLayers):\n",
    "        layer = nHLayers-i-1\n",
    "        plt.subplot(nPlotRows, 1, i+4)\n",
    "        plt.plot(Xtest, Ztest[layer])\n",
    "        plt.xlim(0, 10)\n",
    "        plt.ylim(-1.1, 1.1)\n",
    "        plt.ylabel('Hidden Units')\n",
    "        plt.text(8, 0, 'Layer {}'.format(layer+1))\n",
    "    return nnet"
   ]
  },
  {
   "cell_type": "code",
   "execution_count": null,
   "metadata": {
    "collapsed": true
   },
   "outputs": [],
   "source": [
    "def run(X, T, hiddenUnits, nIterations=100, verbose=False, saveWeightsHistory=False):\n",
    "    if X.shape[1] != 1 or T.shape[1] != 1:\n",
    "        print('This function written for one-dimensional input samples, X, and one-dimensional targets, T.')\n",
    "        return\n",
    "    nnet = nn.NeuralNetwork(1, hiddenUnits,1 )\n",
    "    nnet.train(X, T, nIterations=nIterations, verbose=verbose, saveWeightsHistory=saveWeightsHistory)\n",
    "    return nnet"
   ]
  },
  {
   "cell_type": "code",
   "execution_count": null,
   "metadata": {},
   "outputs": [],
   "source": [
    "nnet = run(X, T, [50], nIterations=1000, verbose=True)\n",
    "nnet"
   ]
  },
  {
   "cell_type": "code",
   "execution_count": null,
   "metadata": {},
   "outputs": [],
   "source": [
    "nnet = run(X, T, [20, 5, 3], nIterations=1000, verbose=True, saveWeightsHistory=True)\n",
    "nnet"
   ]
  },
  {
   "cell_type": "code",
   "execution_count": null,
   "metadata": {
    "collapsed": true
   },
   "outputs": [],
   "source": [
    "from matplotlib import animation\n",
    "import matplotlib # for next statement\n",
    "matplotlib.rc('animation', html='html5')"
   ]
  },
  {
   "cell_type": "code",
   "execution_count": null,
   "metadata": {},
   "outputs": [],
   "source": [
    "weightsHistory = nnet.getWeightsHistory()\n",
    "nnet._unpack(weightsHistory[0,:])\n",
    "Y = nnet.use(X)\n",
    "Ytest, Ztest = nnet.use(Xtest, allOutputs=True)\n",
    "\n",
    "nHLayers = len(nnet.nhs)\n",
    "nPlotRows = 3 + nHLayers\n",
    "\n",
    "fig = plt.figure(figsize=(10, 15))\n",
    "plt.subplot(nPlotRows, 1, 1)\n",
    "errors = nnet.getErrors()\n",
    "errorsLine = plt.plot(0,errors[0])[0]\n",
    "plt.xlim(0,len(errors))\n",
    "plt.ylim(0,np.max(errors)*1.1)\n",
    "\n",
    "plt.title('Regression Example')\n",
    "\n",
    "plt.subplot(nPlotRows, 1, 2)\n",
    "plt.plot(X, T, 'o-', label='Training Data')\n",
    "trainLine = plt.plot(X, Y, 'o-', label='Train NN Output')[0]\n",
    "plt.ylabel('Training Data')\n",
    "plt.legend(loc='lower right', prop={'size':9})\n",
    "\n",
    "plt.subplot(nPlotRows, 1, 3)\n",
    "plt.plot(Xtest, Ttest, 'o-', label='Test Target')\n",
    "testLine = plt.plot(Xtest, Ytest, 'o-', label='Test NN Output')[0]\n",
    "plt.ylabel('Testing Data')\n",
    "plt.xlim(0, 10)\n",
    "plt.legend(loc='lower right', prop={'size':9})\n",
    "hiddenOutputLines = []\n",
    "for i in range(nHLayers):\n",
    "    layer = nHLayers-i-1\n",
    "    plt.subplot(nPlotRows, 1, i+4)\n",
    "    hiddenOutputLines.append( plt.plot(Xtest, Ztest[layer]) )\n",
    "    plt.xlim(0, 10)\n",
    "    plt.ylim(-1.1, 1.1)\n",
    "    plt.ylabel('Hidden Units')\n",
    "    plt.text(8, 0, 'Layer {}'.format(layer+1))\n",
    "    \n",
    "updatesPerFrame = 2\n",
    "\n",
    "def animator(framei):\n",
    "    step = framei * updatesPerFrame\n",
    "    nnet._unpack(weightsHistory[step,:])\n",
    "    Y = nnet.use(X)\n",
    "    Ytest, Ztest = nnet.use(Xtest, allOutputs=True)\n",
    "    errorsLine.set_data(range(step),errors[:step])\n",
    "    trainLine.set_ydata(Y)\n",
    "    testLine.set_ydata(Ytest)\n",
    "    \n",
    "    for iLayer in range(len(hiddenOutputLines)):\n",
    "        HOLines = hiddenOutputLines[iLayer]\n",
    "        Zlayer = Ztest[nHLayers - iLayer - 1]\n",
    "        for iUnit in range(len(HOLines)):\n",
    "            HOLines[iUnit].set_ydata(Zlayer[:,iUnit])\n",
    "    return [errorsLine, trainLine, testLine] + hiddenOutputLines"
   ]
  },
  {
   "cell_type": "code",
   "execution_count": null,
   "metadata": {
    "collapsed": true
   },
   "outputs": [],
   "source": []
  },
  {
   "cell_type": "code",
   "execution_count": null,
   "metadata": {
    "collapsed": true
   },
   "outputs": [],
   "source": []
  },
  {
   "cell_type": "code",
   "execution_count": null,
   "metadata": {
    "collapsed": true
   },
   "outputs": [],
   "source": []
  },
  {
   "cell_type": "markdown",
   "metadata": {},
   "source": [
    "## Methods"
   ]
  },
  {
   "cell_type": "markdown",
   "metadata": {},
   "source": [
    "Notes: \n",
    "* could seperate all items into train and test data\n",
    "* could train on one item, test on another"
   ]
  },
  {
   "cell_type": "code",
   "execution_count": null,
   "metadata": {
    "collapsed": true
   },
   "outputs": [],
   "source": [
    "# This method acts as the reinforcement and accounts for the 15% handling cost for selling items on the market\n",
    "def checkForProfit(price_sold, price_bought):\n",
    "    profit = (price_sold - (price_sold * 0.15)) - price_bought\n",
    "    if profit > 0:\n",
    "        return 1\n",
    "    elif profit < 0:\n",
    "        return -1\n",
    "    else:\n",
    "        return 0"
   ]
  },
  {
   "cell_type": "markdown",
   "metadata": {},
   "source": [
    "## Results"
   ]
  },
  {
   "cell_type": "markdown",
   "metadata": {},
   "source": [
    "## Conclusions"
   ]
  },
  {
   "cell_type": "markdown",
   "metadata": {},
   "source": [
    "## References"
   ]
  }
 ],
 "metadata": {
  "kernelspec": {
   "display_name": "Python 3",
   "language": "python",
   "name": "python3"
  },
  "language_info": {
   "codemirror_mode": {
    "name": "ipython",
    "version": 3
   },
   "file_extension": ".py",
   "mimetype": "text/x-python",
   "name": "python",
   "nbconvert_exporter": "python",
   "pygments_lexer": "ipython3",
   "version": "3.6.3"
  }
 },
 "nbformat": 4,
 "nbformat_minor": 2
}
