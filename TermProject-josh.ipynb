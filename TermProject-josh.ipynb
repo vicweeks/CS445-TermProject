{
 "cells": [
  {
   "cell_type": "markdown",
   "metadata": {},
   "source": [
    "# CS445: Term Project"
   ]
  },
  {
   "cell_type": "markdown",
   "metadata": {},
   "source": [
    "#### Victor Weeks & Josh Lutz"
   ]
  },
  {
   "cell_type": "markdown",
   "metadata": {},
   "source": [
    "## Introduction"
   ]
  },
  {
   "cell_type": "markdown",
   "metadata": {},
   "source": [
    "## Methods"
   ]
  },
  {
   "cell_type": "markdown",
   "metadata": {},
   "source": [
    "## Results"
   ]
  },
  {
   "cell_type": "markdown",
   "metadata": {},
   "source": [
    "## Conclusions"
   ]
  },
  {
   "cell_type": "markdown",
   "metadata": {},
   "source": [
    "## References"
   ]
  },
  {
   "cell_type": "code",
   "execution_count": 3,
   "metadata": {
    "collapsed": true
   },
   "outputs": [],
   "source": [
    "from gw2spidy import Gw2Spidy as spidy # allows retrieval of market information\n",
    "import numpy as np"
   ]
  },
  {
   "cell_type": "markdown",
   "metadata": {},
   "source": [
    "#### Basic Crafting Materials"
   ]
  },
  {
   "cell_type": "code",
   "execution_count": 4,
   "metadata": {
    "collapsed": true
   },
   "outputs": [],
   "source": [
    "# Tier 1\n",
    "juteScrap = spidy.getItemData(19718)\n",
    "boltOfJute = spidy.getItemData(19720)\n",
    "copperOre = spidy.getItemData(19697)\n",
    "copperIngot = spidy.getItemData(19680)\n",
    "rawhideLeatherSection = spidy.getItemData(19719)\n",
    "stretchedRawhideLeatherSquare = spidy.getItemData(19738)\n",
    "greenWoodLog = spidy.getItemData(19723)\n",
    "greenWoodPlank = spidy.getItemData(19710)"
   ]
  },
  {
   "cell_type": "code",
   "execution_count": 5,
   "metadata": {
    "collapsed": true
   },
   "outputs": [],
   "source": [
    "# Tier 2\n",
    "woolScrap = spidy.getItemData(19739)\n",
    "boltOfWool = spidy.getItemData(19740)\n",
    "ironOre = spidy.getItemData(19699)\n",
    "ironIngot = spidy.getItemData(19683)\n",
    "silverOre = spidy.getItemData(19703)\n",
    "silverIngot = spidy.getItemData(19687)\n",
    "thinLeatherSection = spidy.getItemData(19728)\n",
    "curedThinLeatherSquare = spidy.getItemData(19733)\n",
    "softWoodLog = spidy.getItemData(19726)\n",
    "softWoodPlank = spidy.getItemData(19713)"
   ]
  },
  {
   "cell_type": "code",
   "execution_count": 6,
   "metadata": {
    "collapsed": true
   },
   "outputs": [],
   "source": [
    "# Tier 3\n",
    "cottonScrap = spidy.getItemData(19741)\n",
    "boltOfCotton = spidy.getItemData(19742)\n",
    "goldOre = spidy.getItemData(19698)\n",
    "goldIngot = spidy.getItemData(19682)\n",
    "coarseLeatherSection = spidy.getItemData(19730)\n",
    "curedCoarseLeatherSquare = spidy.getItemData(19734)\n",
    "seasonedWoodLog = spidy.getItemData(19727)\n",
    "seasonedWoodPlank = spidy.getItemData(19714)"
   ]
  },
  {
   "cell_type": "code",
   "execution_count": 7,
   "metadata": {
    "collapsed": true
   },
   "outputs": [],
   "source": [
    "# Tier 4\n",
    "linenScrap = spidy.getItemData(19743)\n",
    "boltOfLinen = spidy.getItemData(19744)\n",
    "platinumOre = spidy.getItemData(19702)\n",
    "platinumIngot = spidy.getItemData(19686)\n",
    "ruggedLeatherSection = spidy.getItemData(19731)\n",
    "curedRuggedLeatherSquare = spidy.getItemData(19736)\n",
    "hardWoodLog = spidy.getItemData(19724)\n",
    "hardWoodPlank = spidy.getItemData(19711)"
   ]
  },
  {
   "cell_type": "code",
   "execution_count": 8,
   "metadata": {
    "collapsed": true
   },
   "outputs": [],
   "source": [
    "# Tier 5\n",
    "silkScrap = spidy.getItemData(19748)\n",
    "boltOfSilk = spidy.getItemData(19747)\n",
    "mithrilOre = spidy.getItemData(19700)\n",
    "mithrilIngot = spidy.getItemData(19684)\n",
    "thickLeatherSection = spidy.getItemData(19729)\n",
    "curedThickLeatherSection = spidy.getItemData(19735)\n",
    "elderWoodLog = spidy.getItemData(19722)\n",
    "elderWoodPlank = spidy.getItemData(19709)"
   ]
  },
  {
   "cell_type": "code",
   "execution_count": 9,
   "metadata": {
    "collapsed": true
   },
   "outputs": [],
   "source": [
    "# Tier 6\n",
    "gossamerScrap = spidy.getItemData(19745)\n",
    "boltOfGossamer = spidy.getItemData(19746)\n",
    "orichalcumOre = spidy.getItemData(19701)\n",
    "orichalcumIngot = spidy.getItemData(19685)\n",
    "hardenedLeatherSection = spidy.getItemData(19732)\n",
    "curedHardenedLeatherSquare = spidy.getItemData(19737)\n",
    "ancientWoodLog = spidy.getItemData(19725)\n",
    "ancientWoodPlank = spidy.getItemData(19712)"
   ]
  },
  {
   "cell_type": "code",
   "execution_count": 10,
   "metadata": {
    "collapsed": true
   },
   "outputs": [],
   "source": [
    "itemIDs = (19718,19720,19697,19680,19719,19738,19723,19710,\n",
    "           19739,19740,19699,19683,19703,19687,19728,19733,19726,19713,\n",
    "           19741,19742,19698,19682,19730,19734,19727,19714,\n",
    "           19743,19744,19702,19686,19731,19736,19736,19724,19711,\n",
    "           19748,19747,19700,19684,19729,19735,19722,19709,\n",
    "           19745,19746,19701,19685,19732,19737,19725,19712)"
   ]
  },
  {
   "cell_type": "code",
   "execution_count": 11,
   "metadata": {
    "collapsed": true
   },
   "outputs": [],
   "source": [
    "import json"
   ]
  },
  {
   "cell_type": "code",
   "execution_count": 12,
   "metadata": {
    "collapsed": true
   },
   "outputs": [],
   "source": [
    "def saveItemData(itemIDs):\n",
    "    allItems = {}\n",
    "    for id in itemIDs:\n",
    "        itemData = {}\n",
    "        item = spidy.getItemData(id)\n",
    "        itemID = item['data_id']\n",
    "        itemData['name'] = item['name']\n",
    "        itemData['price_last_changed'] = item['price_last_changed']\n",
    "        itemData['max_offer_unit_price'] = item['max_offer_unit_price']\n",
    "        itemData['min_sale_unit_price'] = item['min_sale_unit_price']\n",
    "        itemData['offer_availability'] = item['offer_availability']\n",
    "        itemData['sale_availability'] = item['sale_availability']\n",
    "        itemData['sale_price_change_last_hour'] = item['sale_price_change_last_hour']\n",
    "        itemData['offer_price_change_last_hour'] = item['offer_price_change_last_hour']\n",
    "        allItems[itemID] = itemData\n",
    "    return allItems\n",
    "        "
   ]
  },
  {
   "cell_type": "code",
   "execution_count": 13,
   "metadata": {
    "collapsed": true
   },
   "outputs": [],
   "source": [
    "with open('itemData.txt', 'w') as outFile:\n",
    "    json.dump(saveItemData(itemIDs), outFile)"
   ]
  },
  {
   "cell_type": "code",
   "execution_count": 14,
   "metadata": {},
   "outputs": [
    {
     "data": {
      "text/plain": [
       "{'max_offer_unit_price': 152,\n",
       " 'min_sale_unit_price': 171,\n",
       " 'name': 'Ancient Wood Log',\n",
       " 'offer_availability': 84151,\n",
       " 'offer_price_change_last_hour': -5,\n",
       " 'price_last_changed': '2018-05-04 23:20:31 UTC',\n",
       " 'sale_availability': 491002,\n",
       " 'sale_price_change_last_hour': 0}"
      ]
     },
     "execution_count": 14,
     "metadata": {},
     "output_type": "execute_result"
    }
   ],
   "source": [
    "itemData = open('itemData.txt')\n",
    "lastItemData = json.load(itemData)\n",
    "lastItemData['19725']"
   ]
  },
  {
   "cell_type": "code",
   "execution_count": 15,
   "metadata": {
    "collapsed": true
   },
   "outputs": [],
   "source": [
    "# This method acts as the reinforcement and accounts for the 15% handling cost for selling items on the market\n",
    "def checkForProfit(price_sold, price_bought):\n",
    "    profit = (price_sold - (price_sold * 0.15)) - price_bought\n",
    "    if profit > 0:\n",
    "        return 1\n",
    "    elif profit < 0:\n",
    "        return -1\n",
    "    else:\n",
    "        return 0"
   ]
  },
  {
   "cell_type": "code",
   "execution_count": 16,
   "metadata": {
    "collapsed": true
   },
   "outputs": [],
   "source": [
    "def savePortfolio(itemIDs):\n",
    "    allItems = {}\n",
    "    for id in itemIDs:\n",
    "        itemPortfolio = {}\n",
    "        itemPortfolio['num_units_possessed'] = 0\n",
    "        itemPortfolio['max_unit_buy_price'] = 0\n",
    "        allItems[id] = itemPortfolio\n",
    "    return allItems"
   ]
  },
  {
   "cell_type": "code",
   "execution_count": 17,
   "metadata": {
    "collapsed": true
   },
   "outputs": [],
   "source": [
    "with open('portfolio.txt', 'w') as portfolio:\n",
    "    json.dump(savePortfolio(itemIDs), portfolio)"
   ]
  },
  {
   "cell_type": "code",
   "execution_count": 18,
   "metadata": {},
   "outputs": [
    {
     "data": {
      "text/plain": [
       "{'max_unit_buy_price': 0, 'num_units_possessed': 0}"
      ]
     },
     "execution_count": 18,
     "metadata": {},
     "output_type": "execute_result"
    }
   ],
   "source": [
    "portfolio = open('portfolio.txt')\n",
    "currPortfolio = json.load(portfolio)\n",
    "currPortfolio['19725']"
   ]
  },
  {
   "cell_type": "markdown",
   "metadata": {
    "collapsed": true
   },
   "source": [
    "https://wiki.guildwars2.com/wiki/Salvage"
   ]
  },
  {
   "cell_type": "code",
   "execution_count": 21,
   "metadata": {},
   "outputs": [
    {
     "data": {
      "text/plain": [
       "{'data_id': 23040,\n",
       " 'img': 'https://render.guildwars2.com/file/F0B4025A23D3D1ADE0466FFEAA7023D8EFD8422C/66765.png',\n",
       " 'max_offer_unit_price': 501,\n",
       " 'min_sale_unit_price': 0,\n",
       " 'name': 'Basic Salvage Kit',\n",
       " 'offer_availability': 0,\n",
       " 'offer_price_change_last_hour': 0,\n",
       " 'price_last_changed': '2014-09-11 12:08:27 UTC',\n",
       " 'rarity': 1,\n",
       " 'restriction_level': 0,\n",
       " 'result_of': [],\n",
       " 'sale_availability': 0,\n",
       " 'sale_price_change_last_hour': 0,\n",
       " 'sub_type_id': 2,\n",
       " 'type_id': 13}"
      ]
     },
     "execution_count": 21,
     "metadata": {},
     "output_type": "execute_result"
    }
   ],
   "source": [
    "# Salvageable Items (Additional to above)\n",
    "globEctoplasm = spidy.getItemData(19721)\n",
    "# globDarkMAtter #not sellable, but very good to get!\n",
    "globEctoplasm"
   ]
  },
  {
   "cell_type": "code",
   "execution_count": 27,
   "metadata": {},
   "outputs": [
    {
     "data": {
      "text/plain": [
       "1.2"
      ]
     },
     "execution_count": 27,
     "metadata": {},
     "output_type": "execute_result"
    }
   ],
   "source": [
    "# not including crude kits because they are basically useless for profit\n",
    "# rareMatChance = chance that the obtained materials will be upgraded to the next tier\n",
    "# upgradeChance = chance to get back sigils and runes\n",
    "allKitData = {}\n",
    "basicKitData = {}\n",
    "basicKitData['pricePerUse'] = 3.52\n",
    "basicKitData['rareMatChance'] = 10\n",
    "basicKitData['upgradeChance'] = 20\n",
    "basicKitData['0ectoRareChance'] = 100 # Unknown!!\n",
    "basicKitData['1ectoRareChance'] = 0   # Unknown!!\n",
    "basicKitData['2ectoRareChance'] = 0   # Unknown!!\n",
    "basicKitData['3ectoRareChance'] = 0   # Unknown!!\n",
    "basicKitData['avgEctoPerUseRare'] = 0.0 # unknown!!\n",
    "\n",
    "copperFedKitData = basicKitData\n",
    "copperFedKitData['pricePerUse'] = 3\n",
    "\n",
    "\n",
    "# https://www.reddit.com/r/Guildwars2/comments/1vv3cd/share_all_the_salvage_data/\n",
    "# https://wiki.guildwars2.com/wiki/Glob_of_Ectoplasm\n",
    "masterKitData = {}\n",
    "masterKitData['pricePerUse'] = 61.44\n",
    "masterKitData['rareMatChance'] = 50\n",
    "masterKitData['upgradeChance'] = 80\n",
    "masterKitData['0ectoRareChance'] = 36.75\n",
    "masterKitData['1ectoRareChance'] = 47\n",
    "masterKitData['2ectoRareChance'] = 8.25\n",
    "masterKitData['3ectoRareChance'] = 8\n",
    "masterKitData['avgEctoPerUseRare'] = 0.9\n",
    "\n",
    "silverFedKitData = masterKitData\n",
    "silverFedKitData['pricePerUse'] = 60\n",
    "\n",
    "blackLionKitData = {}\n",
    "blackLionKitData['pricePerUse'] = 61.44\n",
    "blackLionKitData['rareMatChance'] = 80\n",
    "blackLionKitData['upgradeChance'] = 100\n",
    "blackLionKitData['0ectoRareChance'] = 30 # estimated!\n",
    "blackLionKitData['1ectoRareChance'] = 48.5 # estimated!\n",
    "blackLionKitData['2ectoRareChance'] = 11.5 # estimated!\n",
    "blackLionKitData['3ectoRareChance'] = 10 # estimated!\n",
    "blackLionKitData['avgEctoPerUseRare'] = 1.2\n",
    "\n",
    "allKitData['basic'] = basicKitData\n",
    "allKitData['copperFed'] = copperFedKitData\n",
    "allKitData['master'] = masterKitData\n",
    "allKitData['silverFed'] = silverFedKitData\n",
    "allKitData['blackLion'] = blackLionKitData\n",
    "\n",
    "allKitData['blackLion']['avgEctoPerUseRare']"
   ]
  },
  {
   "cell_type": "code",
   "execution_count": null,
   "metadata": {
    "collapsed": true
   },
   "outputs": [],
   "source": [
    "def totalProfitFromSalvage(itemToSalvage, kitToUse):\n",
    "    return 0.0"
   ]
  }
 ],
 "metadata": {
  "kernelspec": {
   "display_name": "Python 3",
   "language": "python",
   "name": "python3"
  },
  "language_info": {
   "codemirror_mode": {
    "name": "ipython",
    "version": 3
   },
   "file_extension": ".py",
   "mimetype": "text/x-python",
   "name": "python",
   "nbconvert_exporter": "python",
   "pygments_lexer": "ipython3",
   "version": "3.6.3"
  }
 },
 "nbformat": 4,
 "nbformat_minor": 2
}
